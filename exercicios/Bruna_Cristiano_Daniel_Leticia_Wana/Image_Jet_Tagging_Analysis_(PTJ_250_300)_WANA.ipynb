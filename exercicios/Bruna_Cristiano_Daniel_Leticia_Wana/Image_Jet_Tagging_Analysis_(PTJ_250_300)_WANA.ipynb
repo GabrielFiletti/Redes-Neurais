{
 "cells": [
  {
   "cell_type": "markdown",
   "metadata": {},
   "source": [
    "# https://raphaelmcobe.github.io/dataSanJose2019_nn_presentation/#/72"
   ]
  },
  {
   "cell_type": "code",
   "execution_count": 101,
   "metadata": {},
   "outputs": [],
   "source": [
    "import tensorflow as tf\n",
    "import pandas as pd\n",
    "import numpy as np\n",
    "from sklearn.model_selection import train_test_split\n",
    "from tensorflow.keras.utils import to_categorical # For y values\n",
    "from tensorflow.keras.models import Sequential\n",
    "from tensorflow.keras import metrics\n",
    "from tensorflow.keras.layers import Dense, Dropout\n",
    "from tensorflow.keras import backend as K\n",
    "\n",
    "import matplotlib.pyplot as plt\n",
    "\n",
    "import seaborn as sns; sns.set()\n"
   ]
  },
  {
   "cell_type": "code",
   "execution_count": 102,
   "metadata": {},
   "outputs": [],
   "source": [
    "np.random.seed(123)  # for reproducibility"
   ]
  },
  {
   "cell_type": "markdown",
   "metadata": {},
   "source": [
    "## Some Helping Functions"
   ]
  },
  {
   "cell_type": "code",
   "execution_count": 103,
   "metadata": {},
   "outputs": [],
   "source": [
    "def print_heatmap(data):\n",
    "    heatmap = sns.heatmap(data)\n",
    "    heatmap.set(xlabel='Pseudorapidity', ylabel='Azimuthal Angle')\n",
    "    print(heatmap)\n",
    "    plt.imshow(data, cmap='jet', interpolation='nearest')\n",
    "    plt.show()"
   ]
  },
  {
   "cell_type": "code",
   "execution_count": 104,
   "metadata": {},
   "outputs": [],
   "source": [
    "def get_predicted_values(output_values):\n",
    "    predicted_values = []\n",
    "    for probability in output_values:\n",
    "        if probability[0] > probability[1]:\n",
    "            predicted_values.append(0)\n",
    "        else:\n",
    "            predicted_values.append(1)\n",
    "    return predicted_values"
   ]
  },
  {
   "cell_type": "markdown",
   "metadata": {},
   "source": [
    "# Reading the data\n",
    "First we read the Signal Data and produce a heatmap from the average of all lines. We do so, in order to get the feeling of what our data looks like."
   ]
  },
  {
   "cell_type": "code",
   "execution_count": 105,
   "metadata": {},
   "outputs": [],
   "source": [
    "#! wget -c https://github.com/raphaelmcobe/jet-classification/raw/master/signal_PU0_13TeV_MJ-65-95_PTJ-250-300_ext.txt"
   ]
  },
  {
   "cell_type": "code",
   "execution_count": 106,
   "metadata": {},
   "outputs": [],
   "source": [
    "#!ls -lh"
   ]
  },
  {
   "cell_type": "code",
   "execution_count": 107,
   "metadata": {},
   "outputs": [
    {
     "name": "stdout",
     "output_type": "stream",
     "text": [
      "(11298, 626)\n",
      "1   NaN\n",
      "2   NaN\n",
      "3   NaN\n",
      "4   NaN\n",
      "5   NaN\n",
      "6   NaN\n",
      "7   NaN\n",
      "8   NaN\n",
      "9   NaN\n",
      "Name: 625, dtype: float64\n"
     ]
    }
   ],
   "source": [
    "signal_data = pd.read_table('signal_PU0_13TeV_MJ-65-95_PTJ-250-300_ext.txt', header=None)\n",
    "print(signal_data.shape)\n",
    "print(signal_data.iloc[1:10,625])"
   ]
  },
  {
   "cell_type": "markdown",
   "metadata": {},
   "source": [
    "As seen, the data read has a last column (no. 626) without data. This happens because the data read has trailing spaces. We need to remove such data."
   ]
  },
  {
   "cell_type": "code",
   "execution_count": 108,
   "metadata": {},
   "outputs": [
    {
     "name": "stdout",
     "output_type": "stream",
     "text": [
      "(11298, 625)\n"
     ]
    }
   ],
   "source": [
    "signal_data.drop(625, axis=1, inplace=True)\n",
    "print(signal_data.shape)"
   ]
  },
  {
   "cell_type": "markdown",
   "metadata": {},
   "source": [
    "Then, we calculate the average of all observations."
   ]
  },
  {
   "cell_type": "code",
   "execution_count": 109,
   "metadata": {},
   "outputs": [
    {
     "name": "stdout",
     "output_type": "stream",
     "text": [
      "1    0.000000e+00\n",
      "2    0.000000e+00\n",
      "3    0.000000e+00\n",
      "4    0.000000e+00\n",
      "5    2.397279e-08\n",
      "6    0.000000e+00\n",
      "7    6.124087e-08\n",
      "8    0.000000e+00\n",
      "9    3.770772e-06\n",
      "dtype: float64\n"
     ]
    }
   ],
   "source": [
    "mean_signal = signal_data.mean()\n",
    "print(mean_signal.iloc[1:10,])"
   ]
  },
  {
   "cell_type": "code",
   "execution_count": 110,
   "metadata": {},
   "outputs": [
    {
     "name": "stdout",
     "output_type": "stream",
     "text": [
      "(625,)\n",
      "AxesSubplot(0.125,0.125;0.62x0.755)\n"
     ]
    },
    {
     "data": {
      "image/png": "[encoded data removed]",
      "text/plain": [
       "<Figure size 432x288 with 2 Axes>"
      ]
     },
     "metadata": {},
     "output_type": "display_data"
    }
   ],
   "source": [
    "mean_signal_matrix = mean_signal.values\n",
    "print(mean_signal_matrix.shape)\n",
    "mean_signal_matrix = mean_signal_matrix.reshape((25,25))\n",
    "\n",
    "plot_signal_data = print_heatmap(mean_signal_matrix)"
   ]
  },
  {
   "cell_type": "markdown",
   "metadata": {},
   "source": [
    "We then add a last column, with the value of `1`. This last column classify this data as signal data. After creating the full dataset we will rename this column to _class_."
   ]
  },
  {
   "cell_type": "code",
   "execution_count": 111,
   "metadata": {},
   "outputs": [],
   "source": [
    "signal_data[625] = 1"
   ]
  },
  {
   "cell_type": "code",
   "execution_count": 112,
   "metadata": {
    "scrolled": false
   },
   "outputs": [
    {
     "data": {
      "text/plain": [
       "0    1\n",
       "1    1\n",
       "2    1\n",
       "3    1\n",
       "4    1\n",
       "5    1\n",
       "6    1\n",
       "7    1\n",
       "8    1\n",
       "9    1\n",
       "Name: 625, dtype: int64"
      ]
     },
     "execution_count": 112,
     "metadata": {},
     "output_type": "execute_result"
    }
   ],
   "source": [
    "\n",
    "signal_data.iloc[0:10,625]"
   ]
  },
  {
   "cell_type": "markdown",
   "metadata": {},
   "source": [
    "After preprocessing the _signal_ data, we will perform the same steps with the _background_ data."
   ]
  },
  {
   "cell_type": "code",
   "execution_count": 113,
   "metadata": {},
   "outputs": [],
   "source": [
    "#!wget -c https://github.com/raphaelmcobe/jet-classification/raw/master/background_PU0_13TeV_MJ-65-95_PTJ-250-300_ext.txt"
   ]
  },
  {
   "cell_type": "code",
   "execution_count": 114,
   "metadata": {},
   "outputs": [
    {
     "name": "stdout",
     "output_type": "stream",
     "text": [
      "(11298, 626)\n"
     ]
    }
   ],
   "source": [
    "backgroud_data = pd.read_table('background_PU0_13TeV_MJ-65-95_PTJ-250-300_ext.txt', header=None, dtype=np.float32)\n",
    "print(backgroud_data.shape)"
   ]
  },
  {
   "cell_type": "code",
   "execution_count": 115,
   "metadata": {},
   "outputs": [
    {
     "name": "stdout",
     "output_type": "stream",
     "text": [
      "(11298, 625)\n"
     ]
    }
   ],
   "source": [
    "backgroud_data.drop(625, axis=1, inplace=True)\n",
    "print(backgroud_data.shape)"
   ]
  },
  {
   "cell_type": "code",
   "execution_count": 116,
   "metadata": {},
   "outputs": [
    {
     "name": "stdout",
     "output_type": "stream",
     "text": [
      "1    0.000000e+00\n",
      "2    0.000000e+00\n",
      "3    8.339239e-08\n",
      "4    0.000000e+00\n",
      "5    1.226879e-06\n",
      "6    9.698673e-07\n",
      "7    3.696426e-06\n",
      "8    8.896710e-06\n",
      "9    5.325904e-06\n",
      "dtype: float32\n"
     ]
    }
   ],
   "source": [
    "mean_background = backgroud_data.mean()\n",
    "print(mean_background.iloc[1:10,])"
   ]
  },
  {
   "cell_type": "code",
   "execution_count": 117,
   "metadata": {},
   "outputs": [
    {
     "name": "stdout",
     "output_type": "stream",
     "text": [
      "(625,)\n",
      "AxesSubplot(0.125,0.125;0.62x0.755)\n"
     ]
    },
    {
     "data": {
      "image/png": "[encoded data removed]",
      "text/plain": [
       "<Figure size 432x288 with 2 Axes>"
      ]
     },
     "metadata": {},
     "output_type": "display_data"
    }
   ],
   "source": [
    "mean_background_matrix = mean_background.values\n",
    "print(mean_background_matrix.shape)\n",
    "mean_background_matrix = mean_background_matrix.reshape((25,25))\n",
    "\n",
    "plot_background = print_heatmap(mean_background_matrix)"
   ]
  },
  {
   "cell_type": "code",
   "execution_count": 118,
   "metadata": {
    "scrolled": true
   },
   "outputs": [
    {
     "data": {
      "image/png": "[encoded data removed]",
      "text/plain": [
       "<Figure size 1080x576 with 2 Axes>"
      ]
     },
     "metadata": {},
     "output_type": "display_data"
    }
   ],
   "source": [
    "fig, axes = plt.subplots(nrows=1, ncols=2, figsize=(15,8))\n",
    "ax0, ax1 = axes.flatten()\n",
    "ax0.axis(\"off\")\n",
    "ax0.imshow(mean_signal_matrix)\n",
    "ax0.set_title(\"signal data\", fontweight='bold', fontsize=22)\n",
    "ax1.imshow(mean_background_matrix)\n",
    "ax1.set_title(\"background\", fontweight='bold', fontsize=22)\n",
    "ax1.axis(\"off\")\n",
    "plt.show()"
   ]
  },
  {
   "cell_type": "code",
   "execution_count": 119,
   "metadata": {},
   "outputs": [],
   "source": [
    "backgroud_data[625] = 0"
   ]
  },
  {
   "cell_type": "code",
   "execution_count": 120,
   "metadata": {},
   "outputs": [
    {
     "data": {
      "text/plain": [
       "0    0\n",
       "1    0\n",
       "2    0\n",
       "3    0\n",
       "4    0\n",
       "5    0\n",
       "6    0\n",
       "7    0\n",
       "8    0\n",
       "9    0\n",
       "Name: 625, dtype: int64"
      ]
     },
     "execution_count": 120,
     "metadata": {},
     "output_type": "execute_result"
    }
   ],
   "source": [
    "backgroud_data.iloc[0:10,625]"
   ]
  },
  {
   "cell_type": "markdown",
   "metadata": {},
   "source": [
    "Now we concatenate the data and shuffle it in order to randomize its columns."
   ]
  },
  {
   "cell_type": "code",
   "execution_count": 121,
   "metadata": {},
   "outputs": [],
   "source": [
    "frames = [signal_data, backgroud_data]\n",
    "full_data = pd.concat(frames)"
   ]
  },
  {
   "cell_type": "code",
   "execution_count": 122,
   "metadata": {},
   "outputs": [],
   "source": [
    "full_data = full_data.sample(frac=1).reset_index(drop=True)\n",
    "full_data.rename(columns={625: 'class'}, inplace=True)"
   ]
  },
  {
   "cell_type": "markdown",
   "metadata": {},
   "source": [
    "Now let's examine how our data looks like."
   ]
  },
  {
   "cell_type": "code",
   "execution_count": 123,
   "metadata": {
    "scrolled": true
   },
   "outputs": [
    {
     "data": {
      "text/html": [
       "<div>\n",
       "<style scoped>\n",
       "    .dataframe tbody tr th:only-of-type {\n",
       "        vertical-align: middle;\n",
       "    }\n",
       "\n",
       "    .dataframe tbody tr th {\n",
       "        vertical-align: top;\n",
       "    }\n",
       "\n",
       "    .dataframe thead th {\n",
       "        text-align: right;\n",
       "    }\n",
       "</style>\n",
       "<table border=\"1\" class=\"dataframe\">\n",
       "  <thead>\n",
       "    <tr style=\"text-align: right;\">\n",
       "      <th></th>\n",
       "      <th>0</th>\n",
       "      <th>1</th>\n",
       "      <th>2</th>\n",
       "      <th>3</th>\n",
       "      <th>4</th>\n",
       "      <th>5</th>\n",
       "      <th>6</th>\n",
       "      <th>...</th>\n",
       "      <th>619</th>\n",
       "      <th>620</th>\n",
       "      <th>621</th>\n",
       "      <th>622</th>\n",
       "      <th>623</th>\n",
       "      <th>624</th>\n",
       "      <th>class</th>\n",
       "    </tr>\n",
       "  </thead>\n",
       "  <tbody>\n",
       "    <tr>\n",
       "      <th>0</th>\n",
       "      <td>0.00</td>\n",
       "      <td>0.00</td>\n",
       "      <td>0.00</td>\n",
       "      <td>0.00</td>\n",
       "      <td>0.00</td>\n",
       "      <td>0.00</td>\n",
       "      <td>0.00</td>\n",
       "      <td>...</td>\n",
       "      <td>0.00</td>\n",
       "      <td>0.00</td>\n",
       "      <td>0.00</td>\n",
       "      <td>0.00</td>\n",
       "      <td>0.00</td>\n",
       "      <td>0.00</td>\n",
       "      <td>1</td>\n",
       "    </tr>\n",
       "    <tr>\n",
       "      <th>1</th>\n",
       "      <td>0.00</td>\n",
       "      <td>0.00</td>\n",
       "      <td>0.00</td>\n",
       "      <td>0.00</td>\n",
       "      <td>0.00</td>\n",
       "      <td>0.00</td>\n",
       "      <td>0.00</td>\n",
       "      <td>...</td>\n",
       "      <td>0.00</td>\n",
       "      <td>0.00</td>\n",
       "      <td>0.00</td>\n",
       "      <td>0.00</td>\n",
       "      <td>0.00</td>\n",
       "      <td>0.00</td>\n",
       "      <td>1</td>\n",
       "    </tr>\n",
       "    <tr>\n",
       "      <th>2</th>\n",
       "      <td>0.00</td>\n",
       "      <td>0.00</td>\n",
       "      <td>0.00</td>\n",
       "      <td>0.00</td>\n",
       "      <td>0.00</td>\n",
       "      <td>0.00</td>\n",
       "      <td>0.00</td>\n",
       "      <td>...</td>\n",
       "      <td>0.00</td>\n",
       "      <td>0.00</td>\n",
       "      <td>0.00</td>\n",
       "      <td>0.00</td>\n",
       "      <td>0.00</td>\n",
       "      <td>0.00</td>\n",
       "      <td>0</td>\n",
       "    </tr>\n",
       "    <tr>\n",
       "      <th>3</th>\n",
       "      <td>0.00</td>\n",
       "      <td>0.00</td>\n",
       "      <td>0.00</td>\n",
       "      <td>0.00</td>\n",
       "      <td>0.00</td>\n",
       "      <td>0.00</td>\n",
       "      <td>0.00</td>\n",
       "      <td>...</td>\n",
       "      <td>0.00</td>\n",
       "      <td>0.00</td>\n",
       "      <td>0.00</td>\n",
       "      <td>0.00</td>\n",
       "      <td>0.00</td>\n",
       "      <td>0.00</td>\n",
       "      <td>0</td>\n",
       "    </tr>\n",
       "    <tr>\n",
       "      <th>4</th>\n",
       "      <td>0.00</td>\n",
       "      <td>0.00</td>\n",
       "      <td>0.00</td>\n",
       "      <td>0.00</td>\n",
       "      <td>0.00</td>\n",
       "      <td>0.00</td>\n",
       "      <td>0.00</td>\n",
       "      <td>...</td>\n",
       "      <td>0.00</td>\n",
       "      <td>0.00</td>\n",
       "      <td>0.00</td>\n",
       "      <td>0.00</td>\n",
       "      <td>0.00</td>\n",
       "      <td>0.00</td>\n",
       "      <td>0</td>\n",
       "    </tr>\n",
       "    <tr>\n",
       "      <th>...</th>\n",
       "      <td>...</td>\n",
       "      <td>...</td>\n",
       "      <td>...</td>\n",
       "      <td>...</td>\n",
       "      <td>...</td>\n",
       "      <td>...</td>\n",
       "      <td>...</td>\n",
       "      <td>...</td>\n",
       "      <td>...</td>\n",
       "      <td>...</td>\n",
       "      <td>...</td>\n",
       "      <td>...</td>\n",
       "      <td>...</td>\n",
       "      <td>...</td>\n",
       "      <td>...</td>\n",
       "    </tr>\n",
       "    <tr>\n",
       "      <th>22591</th>\n",
       "      <td>0.00</td>\n",
       "      <td>0.00</td>\n",
       "      <td>0.00</td>\n",
       "      <td>0.00</td>\n",
       "      <td>0.00</td>\n",
       "      <td>0.00</td>\n",
       "      <td>0.00</td>\n",
       "      <td>...</td>\n",
       "      <td>0.00</td>\n",
       "      <td>0.00</td>\n",
       "      <td>0.00</td>\n",
       "      <td>0.00</td>\n",
       "      <td>0.00</td>\n",
       "      <td>0.00</td>\n",
       "      <td>0</td>\n",
       "    </tr>\n",
       "    <tr>\n",
       "      <th>22592</th>\n",
       "      <td>0.00</td>\n",
       "      <td>0.00</td>\n",
       "      <td>0.00</td>\n",
       "      <td>0.00</td>\n",
       "      <td>0.00</td>\n",
       "      <td>0.00</td>\n",
       "      <td>0.00</td>\n",
       "      <td>...</td>\n",
       "      <td>0.00</td>\n",
       "      <td>0.00</td>\n",
       "      <td>0.00</td>\n",
       "      <td>0.00</td>\n",
       "      <td>0.00</td>\n",
       "      <td>0.00</td>\n",
       "      <td>0</td>\n",
       "    </tr>\n",
       "    <tr>\n",
       "      <th>22593</th>\n",
       "      <td>0.00</td>\n",
       "      <td>0.00</td>\n",
       "      <td>0.00</td>\n",
       "      <td>0.00</td>\n",
       "      <td>0.00</td>\n",
       "      <td>0.00</td>\n",
       "      <td>0.00</td>\n",
       "      <td>...</td>\n",
       "      <td>0.00</td>\n",
       "      <td>0.00</td>\n",
       "      <td>0.00</td>\n",
       "      <td>0.00</td>\n",
       "      <td>0.00</td>\n",
       "      <td>0.00</td>\n",
       "      <td>0</td>\n",
       "    </tr>\n",
       "    <tr>\n",
       "      <th>22594</th>\n",
       "      <td>0.00</td>\n",
       "      <td>0.00</td>\n",
       "      <td>0.00</td>\n",
       "      <td>0.00</td>\n",
       "      <td>0.00</td>\n",
       "      <td>0.00</td>\n",
       "      <td>0.00</td>\n",
       "      <td>...</td>\n",
       "      <td>0.00</td>\n",
       "      <td>0.00</td>\n",
       "      <td>0.00</td>\n",
       "      <td>0.00</td>\n",
       "      <td>0.00</td>\n",
       "      <td>0.00</td>\n",
       "      <td>0</td>\n",
       "    </tr>\n",
       "    <tr>\n",
       "      <th>22595</th>\n",
       "      <td>0.00</td>\n",
       "      <td>0.00</td>\n",
       "      <td>0.00</td>\n",
       "      <td>0.00</td>\n",
       "      <td>0.00</td>\n",
       "      <td>0.00</td>\n",
       "      <td>0.00</td>\n",
       "      <td>...</td>\n",
       "      <td>0.00</td>\n",
       "      <td>0.00</td>\n",
       "      <td>0.00</td>\n",
       "      <td>0.00</td>\n",
       "      <td>0.00</td>\n",
       "      <td>0.00</td>\n",
       "      <td>0</td>\n",
       "    </tr>\n",
       "  </tbody>\n",
       "</table>\n",
       "<p>22596 rows × 626 columns</p>\n",
       "</div>"
      ],
      "text/plain": [
       "         0    1    2    3    4    5    6  ...  619  620  621  622  623  624  \\\n",
       "0     0.00 0.00 0.00 0.00 0.00 0.00 0.00  ... 0.00 0.00 0.00 0.00 0.00 0.00   \n",
       "1     0.00 0.00 0.00 0.00 0.00 0.00 0.00  ... 0.00 0.00 0.00 0.00 0.00 0.00   \n",
       "2     0.00 0.00 0.00 0.00 0.00 0.00 0.00  ... 0.00 0.00 0.00 0.00 0.00 0.00   \n",
       "3     0.00 0.00 0.00 0.00 0.00 0.00 0.00  ... 0.00 0.00 0.00 0.00 0.00 0.00   \n",
       "4     0.00 0.00 0.00 0.00 0.00 0.00 0.00  ... 0.00 0.00 0.00 0.00 0.00 0.00   \n",
       "...    ...  ...  ...  ...  ...  ...  ...  ...  ...  ...  ...  ...  ...  ...   \n",
       "22591 0.00 0.00 0.00 0.00 0.00 0.00 0.00  ... 0.00 0.00 0.00 0.00 0.00 0.00   \n",
       "22592 0.00 0.00 0.00 0.00 0.00 0.00 0.00  ... 0.00 0.00 0.00 0.00 0.00 0.00   \n",
       "22593 0.00 0.00 0.00 0.00 0.00 0.00 0.00  ... 0.00 0.00 0.00 0.00 0.00 0.00   \n",
       "22594 0.00 0.00 0.00 0.00 0.00 0.00 0.00  ... 0.00 0.00 0.00 0.00 0.00 0.00   \n",
       "22595 0.00 0.00 0.00 0.00 0.00 0.00 0.00  ... 0.00 0.00 0.00 0.00 0.00 0.00   \n",
       "\n",
       "       class  \n",
       "0          1  \n",
       "1          1  \n",
       "2          0  \n",
       "3          0  \n",
       "4          0  \n",
       "...      ...  \n",
       "22591      0  \n",
       "22592      0  \n",
       "22593      0  \n",
       "22594      0  \n",
       "22595      0  \n",
       "\n",
       "[22596 rows x 626 columns]"
      ]
     },
     "metadata": {},
     "output_type": "display_data"
    }
   ],
   "source": [
    "from IPython.core.display import display\n",
    "with pd.option_context('display.max_rows', 200, 'display.max_columns', 15, \n",
    "                       'display.float_format', '{:.2f}'.format):\n",
    "    display(full_data)"
   ]
  },
  {
   "cell_type": "markdown",
   "metadata": {},
   "source": [
    "# Defining and Training the model"
   ]
  },
  {
   "cell_type": "code",
   "execution_count": 294,
   "metadata": {},
   "outputs": [],
   "source": [
    "from sklearn.preprocessing import Normalizer\n",
    "X = full_data.drop('class', axis=1)\n",
    "y = full_data['class']\n",
    "scaler = Normalizer().fit(X).transform(X)"
   ]
  },
  {
   "cell_type": "markdown",
   "metadata": {},
   "source": [
    "Split the full dataset into _test_ and _train_ data in a 70-30% rate."
   ]
  },
  {
   "cell_type": "code",
   "execution_count": 295,
   "metadata": {},
   "outputs": [
    {
     "name": "stdout",
     "output_type": "stream",
     "text": [
      "(15139, 625)\n",
      "(7457, 625)\n"
     ]
    }
   ],
   "source": [
    "X_train, X_test, Y_train, Y_test = train_test_split(scaler, y, test_size=0.33, random_state=42)\n",
    "print(X_train.shape)\n",
    "print(X_test.shape)"
   ]
  },
  {
   "cell_type": "markdown",
   "metadata": {},
   "source": [
    "The _Keras_ framework, in order to train its network must receive the dependent and independent variables in  separated tables."
   ]
  },
  {
   "cell_type": "code",
   "execution_count": 296,
   "metadata": {},
   "outputs": [
    {
     "name": "stdout",
     "output_type": "stream",
     "text": [
      "(15139, 625)\n",
      "(15139,)\n"
     ]
    },
    {
     "data": {
      "text/plain": [
       "array([[0., 0., 0., ..., 0., 0., 0.],\n",
       "       [0., 0., 0., ..., 0., 0., 0.],\n",
       "       [0., 0., 0., ..., 0., 0., 0.],\n",
       "       ...,\n",
       "       [0., 0., 0., ..., 0., 0., 0.],\n",
       "       [0., 0., 0., ..., 0., 0., 0.],\n",
       "       [0., 0., 0., ..., 0., 0., 0.]])"
      ]
     },
     "metadata": {},
     "output_type": "display_data"
    }
   ],
   "source": [
    "print(X_train.shape)\n",
    "print(Y_train.shape)\n",
    "display(X_train)"
   ]
  },
  {
   "cell_type": "code",
   "execution_count": 297,
   "metadata": {},
   "outputs": [
    {
     "name": "stdout",
     "output_type": "stream",
     "text": [
      "(7457, 625)\n",
      "(7457,)\n"
     ]
    }
   ],
   "source": [
    "print(X_test.shape)\n",
    "print(Y_test.shape)"
   ]
  },
  {
   "cell_type": "markdown",
   "metadata": {},
   "source": [
    "We must convert the dependent variable to be a probability distribution of the possible outcomes, thus, a value of output `1` must become the probabilities `(0, 1)`. Conversely, a `0` outcome value must become the pair `(1, 0)`."
   ]
  },
  {
   "cell_type": "markdown",
   "metadata": {},
   "source": [
    "# Why ?"
   ]
  },
  {
   "cell_type": "code",
   "execution_count": 298,
   "metadata": {},
   "outputs": [
    {
     "data": {
      "text/plain": [
       "15139"
      ]
     },
     "execution_count": 298,
     "metadata": {},
     "output_type": "execute_result"
    }
   ],
   "source": [
    "Y_train = to_categorical(Y_train, num_classes=2)\n",
    "len(Y_train)"
   ]
  },
  {
   "cell_type": "code",
   "execution_count": 299,
   "metadata": {},
   "outputs": [
    {
     "data": {
      "text/plain": [
       "15139"
      ]
     },
     "execution_count": 299,
     "metadata": {},
     "output_type": "execute_result"
    }
   ],
   "source": [
    "len(Y_train)"
   ]
  },
  {
   "cell_type": "markdown",
   "metadata": {},
   "source": [
    "## Neural Network Architecture Definition\n",
    "We defined a simple NN, with only two hidden layer."
   ]
  },
  {
   "cell_type": "code",
   "execution_count": 300,
   "metadata": {},
   "outputs": [
    {
     "data": {
      "text/plain": [
       "625"
      ]
     },
     "execution_count": 300,
     "metadata": {},
     "output_type": "execute_result"
    }
   ],
   "source": [
    "dimof_input = X_train.shape[1] # quantidade de inputs\n",
    "model = Sequential()\n",
    "model.add(Dense(units=625, activation=\"relu\", input_dim=dimof_input))#'relu'\n",
    "model.add(Dropout(0.1))\n",
    "model.add(Dense(units=12, activation='sigmoid', input_dim=dimof_input))\n",
    "model.add(Dropout(0.1))\n",
    "model.add(Dense(units=2))\n",
    "model.compile(loss='mean_squared_logarithmic_error', optimizer=\"adam\", \n",
    "              metrics=[\"accuracy\"]) #mse\n",
    "dimof_input"
   ]
  },
  {
   "cell_type": "markdown",
   "metadata": {},
   "source": [
    "After defining the NN architecture we train it using the `fit` method. We trained it for 50 epochs (backpropagation cycles). "
   ]
  },
  {
   "cell_type": "code",
   "execution_count": 301,
   "metadata": {},
   "outputs": [
    {
     "name": "stdout",
     "output_type": "stream",
     "text": [
      "Train on 15139 samples\n",
      "Epoch 1/50\n",
      "15139/15139 [==============================] - 1s 35us/sample - loss: 0.1543 - accuracy: 0.5132\n",
      "Epoch 2/50\n",
      "15139/15139 [==============================] - 0s 11us/sample - loss: 0.1140 - accuracy: 0.6229\n",
      "Epoch 3/50\n",
      "15139/15139 [==============================] - 0s 11us/sample - loss: 0.1042 - accuracy: 0.6691\n",
      "Epoch 4/50\n",
      "15139/15139 [==============================] - 0s 11us/sample - loss: 0.0997 - accuracy: 0.6874\n",
      "Epoch 5/50\n",
      "15139/15139 [==============================] - 0s 11us/sample - loss: 0.0965 - accuracy: 0.7047\n",
      "Epoch 6/50\n",
      "15139/15139 [==============================] - 0s 11us/sample - loss: 0.0941 - accuracy: 0.7092\n",
      "Epoch 7/50\n",
      "15139/15139 [==============================] - 0s 11us/sample - loss: 0.0914 - accuracy: 0.7168\n",
      "Epoch 8/50\n",
      "15139/15139 [==============================] - 0s 11us/sample - loss: 0.0898 - accuracy: 0.7241\n",
      "Epoch 9/50\n",
      "15139/15139 [==============================] - 0s 11us/sample - loss: 0.0886 - accuracy: 0.7296\n",
      "Epoch 10/50\n",
      "15139/15139 [==============================] - 0s 11us/sample - loss: 0.0880 - accuracy: 0.7330\n",
      "Epoch 11/50\n",
      "15139/15139 [==============================] - 0s 11us/sample - loss: 0.0866 - accuracy: 0.7366\n",
      "Epoch 12/50\n",
      "15139/15139 [==============================] - 0s 11us/sample - loss: 0.0861 - accuracy: 0.7397\n",
      "Epoch 13/50\n",
      "15139/15139 [==============================] - 0s 11us/sample - loss: 0.0854 - accuracy: 0.7434\n",
      "Epoch 14/50\n",
      "15139/15139 [==============================] - 0s 11us/sample - loss: 0.0838 - accuracy: 0.7481\n",
      "Epoch 15/50\n",
      "15139/15139 [==============================] - 0s 11us/sample - loss: 0.0836 - accuracy: 0.7481\n",
      "Epoch 16/50\n",
      "15139/15139 [==============================] - 0s 11us/sample - loss: 0.0828 - accuracy: 0.7491\n",
      "Epoch 17/50\n",
      "15139/15139 [==============================] - 0s 11us/sample - loss: 0.0822 - accuracy: 0.7520\n",
      "Epoch 18/50\n",
      "15139/15139 [==============================] - 0s 11us/sample - loss: 0.0811 - accuracy: 0.7588\n",
      "Epoch 19/50\n",
      "15139/15139 [==============================] - 0s 12us/sample - loss: 0.0807 - accuracy: 0.7607\n",
      "Epoch 20/50\n",
      "15139/15139 [==============================] - 0s 12us/sample - loss: 0.0802 - accuracy: 0.7583\n",
      "Epoch 21/50\n",
      "15139/15139 [==============================] - 0s 11us/sample - loss: 0.0795 - accuracy: 0.7613\n",
      "Epoch 22/50\n",
      "15139/15139 [==============================] - 0s 11us/sample - loss: 0.0786 - accuracy: 0.7649\n",
      "Epoch 23/50\n",
      "15139/15139 [==============================] - 0s 12us/sample - loss: 0.0782 - accuracy: 0.7663\n",
      "Epoch 24/50\n",
      "15139/15139 [==============================] - 0s 11us/sample - loss: 0.0777 - accuracy: 0.7683\n",
      "Epoch 25/50\n",
      "15139/15139 [==============================] - 0s 11us/sample - loss: 0.0770 - accuracy: 0.7736\n",
      "Epoch 26/50\n",
      "15139/15139 [==============================] - 0s 11us/sample - loss: 0.0759 - accuracy: 0.7757\n",
      "Epoch 27/50\n",
      "15139/15139 [==============================] - 0s 11us/sample - loss: 0.0760 - accuracy: 0.7759\n",
      "Epoch 28/50\n",
      "15139/15139 [==============================] - 0s 11us/sample - loss: 0.0750 - accuracy: 0.7777\n",
      "Epoch 29/50\n",
      "15139/15139 [==============================] - 0s 11us/sample - loss: 0.0742 - accuracy: 0.7812\n",
      "Epoch 30/50\n",
      "15139/15139 [==============================] - 0s 12us/sample - loss: 0.0738 - accuracy: 0.7836\n",
      "Epoch 31/50\n",
      "15139/15139 [==============================] - 0s 12us/sample - loss: 0.0733 - accuracy: 0.7852\n",
      "Epoch 32/50\n",
      "15139/15139 [==============================] - 0s 11us/sample - loss: 0.0720 - accuracy: 0.7925\n",
      "Epoch 33/50\n",
      "15139/15139 [==============================] - 0s 11us/sample - loss: 0.0717 - accuracy: 0.7911\n",
      "Epoch 34/50\n",
      "15139/15139 [==============================] - 0s 11us/sample - loss: 0.0718 - accuracy: 0.7919\n",
      "Epoch 35/50\n",
      "15139/15139 [==============================] - 0s 11us/sample - loss: 0.0705 - accuracy: 0.7968\n",
      "Epoch 36/50\n",
      "15139/15139 [==============================] - 0s 12us/sample - loss: 0.0698 - accuracy: 0.7993\n",
      "Epoch 37/50\n",
      "15139/15139 [==============================] - 0s 12us/sample - loss: 0.0689 - accuracy: 0.7999\n",
      "Epoch 38/50\n",
      "15139/15139 [==============================] - 0s 11us/sample - loss: 0.0685 - accuracy: 0.8048\n",
      "Epoch 39/50\n",
      "15139/15139 [==============================] - 0s 11us/sample - loss: 0.0681 - accuracy: 0.8030\n",
      "Epoch 40/50\n",
      "15139/15139 [==============================] - 0s 11us/sample - loss: 0.0674 - accuracy: 0.8046\n",
      "Epoch 41/50\n",
      "15139/15139 [==============================] - 0s 11us/sample - loss: 0.0671 - accuracy: 0.8047\n",
      "Epoch 42/50\n",
      "15139/15139 [==============================] - 0s 11us/sample - loss: 0.0660 - accuracy: 0.8108\n",
      "Epoch 43/50\n",
      "15139/15139 [==============================] - 0s 11us/sample - loss: 0.0657 - accuracy: 0.8141\n",
      "Epoch 44/50\n",
      "15139/15139 [==============================] - 0s 11us/sample - loss: 0.0648 - accuracy: 0.8143\n",
      "Epoch 45/50\n",
      "15139/15139 [==============================] - 0s 11us/sample - loss: 0.0642 - accuracy: 0.8183\n",
      "Epoch 46/50\n",
      "15139/15139 [==============================] - 0s 11us/sample - loss: 0.0641 - accuracy: 0.8193\n",
      "Epoch 47/50\n",
      "15139/15139 [==============================] - 0s 11us/sample - loss: 0.0635 - accuracy: 0.8191\n",
      "Epoch 48/50\n",
      "15139/15139 [==============================] - 0s 11us/sample - loss: 0.0632 - accuracy: 0.8215\n",
      "Epoch 49/50\n",
      "15139/15139 [==============================] - 0s 11us/sample - loss: 0.0627 - accuracy: 0.8234\n",
      "Epoch 50/50\n",
      "15139/15139 [==============================] - 0s 11us/sample - loss: 0.0624 - accuracy: 0.8244\n"
     ]
    }
   ],
   "source": [
    "historico = model.fit(X_train, Y_train, batch_size=500, epochs=50, verbose=1) #batch_size - numero de linhas/128, serao 52 iteracoes para uma epoch\n",
    "\n",
    "#custo computacional menor,alocacao de memoria\n",
    "\n",
    "# desvantagem -menor batch-size --> menor accuracia o gradiente vai ter"
   ]
  },
  {
   "cell_type": "markdown",
   "metadata": {},
   "source": [
    "After training the model we need to evaluate it."
   ]
  },
  {
   "cell_type": "code",
   "execution_count": 302,
   "metadata": {},
   "outputs": [
    {
     "data": {
      "text/plain": [
       "array([[1., 0.],\n",
       "       [1., 0.],\n",
       "       [0., 1.],\n",
       "       ...,\n",
       "       [0., 1.],\n",
       "       [1., 0.],\n",
       "       [0., 1.]], dtype=float32)"
      ]
     },
     "execution_count": 302,
     "metadata": {},
     "output_type": "execute_result"
    }
   ],
   "source": [
    "Y_test = to_categorical(Y_test, num_classes=2)\n",
    "Y_test"
   ]
  },
  {
   "cell_type": "code",
   "execution_count": 303,
   "metadata": {},
   "outputs": [
    {
     "name": "stdout",
     "output_type": "stream",
     "text": [
      "['loss', 'accuracy']\n",
      "[0.07988709486247011, 0.76398015]\n"
     ]
    }
   ],
   "source": [
    "score = model.evaluate(X_test, Y_test, verbose=0)\n",
    "print(model.metrics_names)\n",
    "print(score)"
   ]
  },
  {
   "cell_type": "code",
   "execution_count": 304,
   "metadata": {},
   "outputs": [],
   "source": [
    "from sklearn.metrics import roc_curve\n",
    "from sklearn.metrics import roc_auc_score"
   ]
  },
  {
   "cell_type": "code",
   "execution_count": 305,
   "metadata": {},
   "outputs": [
    {
     "data": {
      "image/png": "[encoded data removed]",
      "text/plain": [
       "<Figure size 432x288 with 1 Axes>"
      ]
     },
     "metadata": {},
     "output_type": "display_data"
    }
   ],
   "source": [
    "import matplotlib.pyplot as plt\n",
    "plt.plot(historico.history['loss'])\n",
    "plt.title('Model Training Progression')\n",
    "plt.ylabel('Loss')\n",
    "plt.xlabel('Epoch')\n",
    "plt.legend(['Loss'], loc='upper left')\n",
    "plt.show()\n",
    "#curva de perda"
   ]
  },
  {
   "cell_type": "markdown",
   "metadata": {},
   "source": [
    "Now let's take a look at the missclassified observations."
   ]
  },
  {
   "cell_type": "code",
   "execution_count": 241,
   "metadata": {},
   "outputs": [],
   "source": [
    "Y_test_predicted = model.predict(X_test, verbose=0)"
   ]
  },
  {
   "cell_type": "code",
   "execution_count": null,
   "metadata": {},
   "outputs": [],
   "source": [
    "Y_test_predicted #compara as tuplas"
   ]
  },
  {
   "cell_type": "code",
   "execution_count": 285,
   "metadata": {},
   "outputs": [
    {
     "name": "stdout",
     "output_type": "stream",
     "text": [
      "WARNING:tensorflow:Network returning invalid probability values. The last layer might not normalize predictions into probabilities (like softmax or sigmoid would).\n"
     ]
    },
    {
     "data": {
      "image/png": "[encoded data removed]",
      "text/plain": [
       "<Figure size 432x288 with 1 Axes>"
      ]
     },
     "metadata": {},
     "output_type": "display_data"
    }
   ],
   "source": [
    "y_pred = model.predict_proba(X_test)\n",
    "y_pred = y_pred[:, 0]\n",
    "def plot_roc_curve(fpr, tpr):\n",
    "    plt.plot(fpr, tpr, color='orange', label='ROC')\n",
    "    plt.plot([0, 1], [0, 1], color='darkblue', linestyle='--')\n",
    "    plt.xlabel('False Positive Rate')\n",
    "    plt.ylabel('True Positive Rate')\n",
    "    plt.title('Receiver Operating Characteristic (ROC) Curve')\n",
    "    plt.legend()\n",
    "    plt.show()\n",
    "auc = roc_auc_score(Y_test[:, 0], y_pred)\n",
    "fpr, tpr, thresholds = roc_curve(Y_test[:, 0], y_pred)\n",
    "plot_roc_curve(fpr, tpr)"
   ]
  },
  {
   "cell_type": "markdown",
   "metadata": {},
   "source": [
    "Now we calculate the false negatives and also the false positives by comparing the true value with the predicted one."
   ]
  },
  {
   "cell_type": "code",
   "execution_count": 286,
   "metadata": {},
   "outputs": [
    {
     "name": "stdout",
     "output_type": "stream",
     "text": [
      "7457 7457\n",
      "False Positive Rate: 0.12\n",
      "False Negative Rate: 0.12\n"
     ]
    }
   ],
   "source": [
    "Y_test_predicted_values = get_predicted_values(Y_test_predicted)\n",
    "Y_test_values = get_predicted_values(Y_test)\n",
    "\n",
    "print(len(Y_test_values), len(Y_test_predicted_values))\n",
    "false_positives = []\n",
    "false_negatives = []\n",
    "for i in range(len(Y_test_values)):\n",
    "    if Y_test_values[i] == 0 and Y_test_predicted_values[i] == 1:\n",
    "        false_positives.append(i)\n",
    "    elif Y_test_values[i] == 1 and Y_test_predicted_values[i] == 0:\n",
    "        false_negatives.append(i)\n",
    "        \n",
    "print(\"False Positive Rate: {:.2f}\".format(len(false_positives)/len(Y_test_values)))\n",
    "print(\"False Negative Rate: {:.2f}\".format(len(false_negatives)/len(Y_test_values)))"
   ]
  },
  {
   "cell_type": "markdown",
   "metadata": {},
   "source": [
    "And try to visualize the heatmaps for false positives and negatives. Firstly the false negatives, where the network was supposed to answer _Signal_, but instead, it answered _Background_."
   ]
  },
  {
   "cell_type": "code",
   "execution_count": 289,
   "metadata": {},
   "outputs": [
    {
     "name": "stdout",
     "output_type": "stream",
     "text": [
      "[17, 44, 45, 63, 66, 80, 92, 95, 96]\n",
      "(877, 625) 877\n",
      "()\n"
     ]
    },
    {
     "ename": "ValueError",
     "evalue": "cannot reshape array of size 1 into shape (25,25)",
     "output_type": "error",
     "traceback": [
      "\u001b[0;31m---------------------------------------------------------------------------\u001b[0m",
      "\u001b[0;31mValueError\u001b[0m                                Traceback (most recent call last)",
      "\u001b[0;32m<ipython-input-289-447457686876>\u001b[0m in \u001b[0;36m<module>\u001b[0;34m\u001b[0m\n\u001b[1;32m      5\u001b[0m \u001b[0mmean_false_negatives\u001b[0m \u001b[0;34m=\u001b[0m \u001b[0mfalse_negatives_values\u001b[0m\u001b[0;34m.\u001b[0m\u001b[0mmean\u001b[0m\u001b[0;34m(\u001b[0m\u001b[0;34m)\u001b[0m\u001b[0;34m\u001b[0m\u001b[0;34m\u001b[0m\u001b[0m\n\u001b[1;32m      6\u001b[0m \u001b[0mprint\u001b[0m\u001b[0;34m(\u001b[0m\u001b[0mmean_false_negatives\u001b[0m\u001b[0;34m.\u001b[0m\u001b[0mshape\u001b[0m\u001b[0;34m)\u001b[0m\u001b[0;34m\u001b[0m\u001b[0;34m\u001b[0m\u001b[0m\n\u001b[0;32m----> 7\u001b[0;31m \u001b[0mmean_false_negatives\u001b[0m \u001b[0;34m=\u001b[0m \u001b[0mmean_false_negatives\u001b[0m\u001b[0;34m.\u001b[0m\u001b[0mreshape\u001b[0m\u001b[0;34m(\u001b[0m\u001b[0;34m(\u001b[0m\u001b[0;36m25\u001b[0m\u001b[0;34m,\u001b[0m\u001b[0;36m25\u001b[0m\u001b[0;34m)\u001b[0m\u001b[0;34m)\u001b[0m\u001b[0;34m\u001b[0m\u001b[0;34m\u001b[0m\u001b[0m\n\u001b[0m\u001b[1;32m      8\u001b[0m \u001b[0;34m\u001b[0m\u001b[0m\n\u001b[1;32m      9\u001b[0m \u001b[0mprint_heatmap\u001b[0m\u001b[0;34m(\u001b[0m\u001b[0mmean_false_negatives\u001b[0m\u001b[0;34m)\u001b[0m\u001b[0;34m\u001b[0m\u001b[0;34m\u001b[0m\u001b[0m\n",
      "\u001b[0;31mValueError\u001b[0m: cannot reshape array of size 1 into shape (25,25)"
     ]
    }
   ],
   "source": [
    "print(false_negatives[1:10])\n",
    "false_negatives_values = X_test[false_negatives,]\n",
    "print(false_negatives_values.shape, len(false_negatives))\n",
    "\n",
    "mean_false_negatives = false_negatives_values.mean()\n",
    "print(mean_false_negatives.shape)\n",
    "mean_false_negatives = mean_false_negatives.reshape((25,25))\n",
    "\n",
    "print_heatmap(mean_false_negatives)"
   ]
  },
  {
   "cell_type": "markdown",
   "metadata": {},
   "source": [
    "Then we examine the cases in which the network should have responded _Background_, but it answered _Signal_."
   ]
  },
  {
   "cell_type": "code",
   "execution_count": 57,
   "metadata": {},
   "outputs": [
    {
     "name": "stdout",
     "output_type": "stream",
     "text": [
      "[25, 26, 27, 40, 57, 59, 60, 80, 85]\n",
      "(807, 625)\n",
      "(625,)\n",
      "AxesSubplot(0.125,0.125;0.62x0.755)\n"
     ]
    },
    {
     "data": {
      "image/png": "[encoded data removed]",
      "text/plain": [
       "<Figure size 432x288 with 2 Axes>"
      ]
     },
     "metadata": {},
     "output_type": "display_data"
    }
   ],
   "source": [
    "print(false_positives[1:10])\n",
    "false_positives_values = X_test.iloc[false_positives,]\n",
    "print(false_positives_values.shape)\n",
    "\n",
    "mean_false_positives = false_positives_values.mean().values\n",
    "print(mean_false_positives.shape)\n",
    "mean_false_positives = mean_false_positives.reshape((25,25))\n",
    "\n",
    "print_heatmap(mean_false_positives)"
   ]
  },
  {
   "cell_type": "code",
   "execution_count": null,
   "metadata": {},
   "outputs": [],
   "source": []
  },
  {
   "cell_type": "code",
   "execution_count": null,
   "metadata": {},
   "outputs": [],
   "source": []
  }
 ],
 "metadata": {
  "kernelspec": {
   "display_name": "Python 3",
   "language": "python",
   "name": "python3"
  },
  "language_info": {
   "codemirror_mode": {
    "name": "ipython",
    "version": 3
   },
   "file_extension": ".py",
   "mimetype": "text/x-python",
   "name": "python",
   "nbconvert_exporter": "python",
   "pygments_lexer": "ipython3",
   "version": "3.7.4"
  }
 },
 "nbformat": 4,
 "nbformat_minor": 4
}
