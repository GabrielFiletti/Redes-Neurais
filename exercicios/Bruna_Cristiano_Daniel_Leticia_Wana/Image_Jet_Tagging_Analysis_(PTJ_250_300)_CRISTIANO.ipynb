{
 "cells": [
  {
   "cell_type": "code",
   "execution_count": 1,
   "metadata": {
    "colab": {},
    "colab_type": "code",
    "id": "GWCYTG9XnbK_"
   },
   "outputs": [],
   "source": [
    "import tensorflow as tf\n",
    "import pandas as pd\n",
    "import numpy as np\n",
    "import matplotlib.pyplot as plt\n",
    "import seaborn as sns; sns.set()\n",
    "\n",
    "from sklearn.model_selection import train_test_split\n",
    "from tensorflow.keras.utils import to_categorical # For y values\n",
    "from tensorflow.keras.models import Sequential\n",
    "from tensorflow.keras import metrics\n",
    "from tensorflow.keras.layers import Dense, Dropout\n",
    "from tensorflow.keras import backend as K"
   ]
  },
  {
   "cell_type": "code",
   "execution_count": 2,
   "metadata": {
    "colab": {},
    "colab_type": "code",
    "id": "nCVURZJ9nbLM"
   },
   "outputs": [],
   "source": [
    "np.random.seed(123)  # for reproducibility"
   ]
  },
  {
   "cell_type": "markdown",
   "metadata": {
    "colab_type": "text",
    "id": "wInQv3TNnbLT"
   },
   "source": [
    "## Some Helping Functions"
   ]
  },
  {
   "cell_type": "code",
   "execution_count": 3,
   "metadata": {
    "colab": {},
    "colab_type": "code",
    "id": "ztstabDLnbLW"
   },
   "outputs": [],
   "source": [
    "def print_heatmap(data):\n",
    "    heatmap = sns.heatmap(data)\n",
    "    heatmap.set(xlabel='Pseudorapidity', ylabel='Azimuthal Angle')\n",
    "    print(heatmap)\n",
    "    #plt.imshow(data, cmap='jet', interpolation='nearest')\n",
    "    #plt.show()"
   ]
  },
  {
   "cell_type": "code",
   "execution_count": 4,
   "metadata": {
    "colab": {},
    "colab_type": "code",
    "id": "GmFWJpU9nbLb"
   },
   "outputs": [],
   "source": [
    "def get_predicted_values(output_values):\n",
    "    predicted_values = []\n",
    "    for probability in output_values:\n",
    "        if probability[0] > probability[1]:\n",
    "            predicted_values.append(0)\n",
    "        else:\n",
    "            predicted_values.append(1)\n",
    "    return predicted_values"
   ]
  },
  {
   "cell_type": "markdown",
   "metadata": {
    "colab_type": "text",
    "id": "DjKYMo_KnbLf"
   },
   "source": [
    "# Reading the data"
   ]
  },
  {
   "cell_type": "markdown",
   "metadata": {
    "colab_type": "text",
    "id": "M20RSFqSnbLg"
   },
   "source": [
    "First we read the Signal Data and produce a heatmap from the average of all lines. We do so, in order to get the feeling of what our data looks like."
   ]
  },
  {
   "cell_type": "code",
   "execution_count": 5,
   "metadata": {},
   "outputs": [
    {
     "data": {
      "text/html": [
       "<div>\n",
       "<style scoped>\n",
       "    .dataframe tbody tr th:only-of-type {\n",
       "        vertical-align: middle;\n",
       "    }\n",
       "\n",
       "    .dataframe tbody tr th {\n",
       "        vertical-align: top;\n",
       "    }\n",
       "\n",
       "    .dataframe thead th {\n",
       "        text-align: right;\n",
       "    }\n",
       "</style>\n",
       "<table border=\"1\" class=\"dataframe\">\n",
       "  <thead>\n",
       "    <tr style=\"text-align: right;\">\n",
       "      <th></th>\n",
       "      <th>0</th>\n",
       "      <th>1</th>\n",
       "      <th>2</th>\n",
       "      <th>3</th>\n",
       "      <th>4</th>\n",
       "      <th>5</th>\n",
       "      <th>6</th>\n",
       "      <th>7</th>\n",
       "      <th>8</th>\n",
       "      <th>9</th>\n",
       "      <th>...</th>\n",
       "      <th>616</th>\n",
       "      <th>617</th>\n",
       "      <th>618</th>\n",
       "      <th>619</th>\n",
       "      <th>620</th>\n",
       "      <th>621</th>\n",
       "      <th>622</th>\n",
       "      <th>623</th>\n",
       "      <th>624</th>\n",
       "      <th>625</th>\n",
       "    </tr>\n",
       "  </thead>\n",
       "  <tbody>\n",
       "    <tr>\n",
       "      <th>count</th>\n",
       "      <td>11298.0</td>\n",
       "      <td>11298.0</td>\n",
       "      <td>11298.0</td>\n",
       "      <td>11298.0</td>\n",
       "      <td>11298.0</td>\n",
       "      <td>1.129800e+04</td>\n",
       "      <td>11298.0</td>\n",
       "      <td>1.129800e+04</td>\n",
       "      <td>11298.0</td>\n",
       "      <td>11298.000000</td>\n",
       "      <td>...</td>\n",
       "      <td>11298.0</td>\n",
       "      <td>11298.0</td>\n",
       "      <td>11298.0</td>\n",
       "      <td>11298.0</td>\n",
       "      <td>11298.0</td>\n",
       "      <td>11298.0</td>\n",
       "      <td>11298.0</td>\n",
       "      <td>11298.0</td>\n",
       "      <td>11298.0</td>\n",
       "      <td>0.0</td>\n",
       "    </tr>\n",
       "    <tr>\n",
       "      <th>mean</th>\n",
       "      <td>0.0</td>\n",
       "      <td>0.0</td>\n",
       "      <td>0.0</td>\n",
       "      <td>0.0</td>\n",
       "      <td>0.0</td>\n",
       "      <td>2.397279e-08</td>\n",
       "      <td>0.0</td>\n",
       "      <td>6.124086e-08</td>\n",
       "      <td>0.0</td>\n",
       "      <td>0.000004</td>\n",
       "      <td>...</td>\n",
       "      <td>0.0</td>\n",
       "      <td>0.0</td>\n",
       "      <td>0.0</td>\n",
       "      <td>0.0</td>\n",
       "      <td>0.0</td>\n",
       "      <td>0.0</td>\n",
       "      <td>0.0</td>\n",
       "      <td>0.0</td>\n",
       "      <td>0.0</td>\n",
       "      <td>NaN</td>\n",
       "    </tr>\n",
       "    <tr>\n",
       "      <th>std</th>\n",
       "      <td>0.0</td>\n",
       "      <td>0.0</td>\n",
       "      <td>0.0</td>\n",
       "      <td>0.0</td>\n",
       "      <td>0.0</td>\n",
       "      <td>2.548117e-06</td>\n",
       "      <td>0.0</td>\n",
       "      <td>6.509417e-06</td>\n",
       "      <td>0.0</td>\n",
       "      <td>0.000354</td>\n",
       "      <td>...</td>\n",
       "      <td>0.0</td>\n",
       "      <td>0.0</td>\n",
       "      <td>0.0</td>\n",
       "      <td>0.0</td>\n",
       "      <td>0.0</td>\n",
       "      <td>0.0</td>\n",
       "      <td>0.0</td>\n",
       "      <td>0.0</td>\n",
       "      <td>0.0</td>\n",
       "      <td>NaN</td>\n",
       "    </tr>\n",
       "    <tr>\n",
       "      <th>min</th>\n",
       "      <td>0.0</td>\n",
       "      <td>0.0</td>\n",
       "      <td>0.0</td>\n",
       "      <td>0.0</td>\n",
       "      <td>0.0</td>\n",
       "      <td>0.000000e+00</td>\n",
       "      <td>0.0</td>\n",
       "      <td>0.000000e+00</td>\n",
       "      <td>0.0</td>\n",
       "      <td>0.000000</td>\n",
       "      <td>...</td>\n",
       "      <td>0.0</td>\n",
       "      <td>0.0</td>\n",
       "      <td>0.0</td>\n",
       "      <td>0.0</td>\n",
       "      <td>0.0</td>\n",
       "      <td>0.0</td>\n",
       "      <td>0.0</td>\n",
       "      <td>0.0</td>\n",
       "      <td>0.0</td>\n",
       "      <td>NaN</td>\n",
       "    </tr>\n",
       "    <tr>\n",
       "      <th>25%</th>\n",
       "      <td>0.0</td>\n",
       "      <td>0.0</td>\n",
       "      <td>0.0</td>\n",
       "      <td>0.0</td>\n",
       "      <td>0.0</td>\n",
       "      <td>0.000000e+00</td>\n",
       "      <td>0.0</td>\n",
       "      <td>0.000000e+00</td>\n",
       "      <td>0.0</td>\n",
       "      <td>0.000000</td>\n",
       "      <td>...</td>\n",
       "      <td>0.0</td>\n",
       "      <td>0.0</td>\n",
       "      <td>0.0</td>\n",
       "      <td>0.0</td>\n",
       "      <td>0.0</td>\n",
       "      <td>0.0</td>\n",
       "      <td>0.0</td>\n",
       "      <td>0.0</td>\n",
       "      <td>0.0</td>\n",
       "      <td>NaN</td>\n",
       "    </tr>\n",
       "    <tr>\n",
       "      <th>50%</th>\n",
       "      <td>0.0</td>\n",
       "      <td>0.0</td>\n",
       "      <td>0.0</td>\n",
       "      <td>0.0</td>\n",
       "      <td>0.0</td>\n",
       "      <td>0.000000e+00</td>\n",
       "      <td>0.0</td>\n",
       "      <td>0.000000e+00</td>\n",
       "      <td>0.0</td>\n",
       "      <td>0.000000</td>\n",
       "      <td>...</td>\n",
       "      <td>0.0</td>\n",
       "      <td>0.0</td>\n",
       "      <td>0.0</td>\n",
       "      <td>0.0</td>\n",
       "      <td>0.0</td>\n",
       "      <td>0.0</td>\n",
       "      <td>0.0</td>\n",
       "      <td>0.0</td>\n",
       "      <td>0.0</td>\n",
       "      <td>NaN</td>\n",
       "    </tr>\n",
       "    <tr>\n",
       "      <th>75%</th>\n",
       "      <td>0.0</td>\n",
       "      <td>0.0</td>\n",
       "      <td>0.0</td>\n",
       "      <td>0.0</td>\n",
       "      <td>0.0</td>\n",
       "      <td>0.000000e+00</td>\n",
       "      <td>0.0</td>\n",
       "      <td>0.000000e+00</td>\n",
       "      <td>0.0</td>\n",
       "      <td>0.000000</td>\n",
       "      <td>...</td>\n",
       "      <td>0.0</td>\n",
       "      <td>0.0</td>\n",
       "      <td>0.0</td>\n",
       "      <td>0.0</td>\n",
       "      <td>0.0</td>\n",
       "      <td>0.0</td>\n",
       "      <td>0.0</td>\n",
       "      <td>0.0</td>\n",
       "      <td>0.0</td>\n",
       "      <td>NaN</td>\n",
       "    </tr>\n",
       "    <tr>\n",
       "      <th>max</th>\n",
       "      <td>0.0</td>\n",
       "      <td>0.0</td>\n",
       "      <td>0.0</td>\n",
       "      <td>0.0</td>\n",
       "      <td>0.0</td>\n",
       "      <td>2.708446e-04</td>\n",
       "      <td>0.0</td>\n",
       "      <td>6.918993e-04</td>\n",
       "      <td>0.0</td>\n",
       "      <td>0.037184</td>\n",
       "      <td>...</td>\n",
       "      <td>0.0</td>\n",
       "      <td>0.0</td>\n",
       "      <td>0.0</td>\n",
       "      <td>0.0</td>\n",
       "      <td>0.0</td>\n",
       "      <td>0.0</td>\n",
       "      <td>0.0</td>\n",
       "      <td>0.0</td>\n",
       "      <td>0.0</td>\n",
       "      <td>NaN</td>\n",
       "    </tr>\n",
       "  </tbody>\n",
       "</table>\n",
       "<p>8 rows × 626 columns</p>\n",
       "</div>"
      ],
      "text/plain": [
       "           0        1        2        3        4             5        6    \\\n",
       "count  11298.0  11298.0  11298.0  11298.0  11298.0  1.129800e+04  11298.0   \n",
       "mean       0.0      0.0      0.0      0.0      0.0  2.397279e-08      0.0   \n",
       "std        0.0      0.0      0.0      0.0      0.0  2.548117e-06      0.0   \n",
       "min        0.0      0.0      0.0      0.0      0.0  0.000000e+00      0.0   \n",
       "25%        0.0      0.0      0.0      0.0      0.0  0.000000e+00      0.0   \n",
       "50%        0.0      0.0      0.0      0.0      0.0  0.000000e+00      0.0   \n",
       "75%        0.0      0.0      0.0      0.0      0.0  0.000000e+00      0.0   \n",
       "max        0.0      0.0      0.0      0.0      0.0  2.708446e-04      0.0   \n",
       "\n",
       "                7        8             9    ...      616      617      618  \\\n",
       "count  1.129800e+04  11298.0  11298.000000  ...  11298.0  11298.0  11298.0   \n",
       "mean   6.124086e-08      0.0      0.000004  ...      0.0      0.0      0.0   \n",
       "std    6.509417e-06      0.0      0.000354  ...      0.0      0.0      0.0   \n",
       "min    0.000000e+00      0.0      0.000000  ...      0.0      0.0      0.0   \n",
       "25%    0.000000e+00      0.0      0.000000  ...      0.0      0.0      0.0   \n",
       "50%    0.000000e+00      0.0      0.000000  ...      0.0      0.0      0.0   \n",
       "75%    0.000000e+00      0.0      0.000000  ...      0.0      0.0      0.0   \n",
       "max    6.918993e-04      0.0      0.037184  ...      0.0      0.0      0.0   \n",
       "\n",
       "           619      620      621      622      623      624  625  \n",
       "count  11298.0  11298.0  11298.0  11298.0  11298.0  11298.0  0.0  \n",
       "mean       0.0      0.0      0.0      0.0      0.0      0.0  NaN  \n",
       "std        0.0      0.0      0.0      0.0      0.0      0.0  NaN  \n",
       "min        0.0      0.0      0.0      0.0      0.0      0.0  NaN  \n",
       "25%        0.0      0.0      0.0      0.0      0.0      0.0  NaN  \n",
       "50%        0.0      0.0      0.0      0.0      0.0      0.0  NaN  \n",
       "75%        0.0      0.0      0.0      0.0      0.0      0.0  NaN  \n",
       "max        0.0      0.0      0.0      0.0      0.0      0.0  NaN  \n",
       "\n",
       "[8 rows x 626 columns]"
      ]
     },
     "execution_count": 5,
     "metadata": {},
     "output_type": "execute_result"
    }
   ],
   "source": [
    "signal_data = pd.read_csv('signal_PU0_13TeV_MJ-65-95_PTJ-250-300_ext.txt', sep=\"\t\", header=None, dtype=np.float32)\n",
    "signal_data.describe()"
   ]
  },
  {
   "cell_type": "code",
   "execution_count": 6,
   "metadata": {
    "colab": {
     "base_uri": "https://localhost:8080/",
     "height": 204
    },
    "colab_type": "code",
    "id": "2V2ugOhqnbLh",
    "outputId": "ade37df5-7eb4-403e-9b91-17741b236cce"
   },
   "outputs": [
    {
     "name": "stdout",
     "output_type": "stream",
     "text": [
      "(11298, 626)\n",
      "1   NaN\n",
      "2   NaN\n",
      "3   NaN\n",
      "4   NaN\n",
      "5   NaN\n",
      "6   NaN\n",
      "7   NaN\n",
      "8   NaN\n",
      "9   NaN\n",
      "Name: 625, dtype: float32\n"
     ]
    }
   ],
   "source": [
    "print(signal_data.shape)\n",
    "print(signal_data.iloc[1:10,625])"
   ]
  },
  {
   "cell_type": "markdown",
   "metadata": {
    "colab_type": "text",
    "id": "fyq173X2nbLl"
   },
   "source": [
    "As seen, the data read has a last column (no. 626) without data. This happens because the data read has trailing spaces. We need to remove such data."
   ]
  },
  {
   "cell_type": "code",
   "execution_count": 7,
   "metadata": {
    "colab": {
     "base_uri": "https://localhost:8080/",
     "height": 34
    },
    "colab_type": "code",
    "id": "KA0bSBMTnbLm",
    "outputId": "cdac8c94-928b-46b6-8db1-5b8eb24e65e1"
   },
   "outputs": [
    {
     "name": "stdout",
     "output_type": "stream",
     "text": [
      "(11298, 625)\n"
     ]
    }
   ],
   "source": [
    "signal_data.drop(625, axis=1, inplace=True)\n",
    "print(signal_data.shape)"
   ]
  },
  {
   "cell_type": "markdown",
   "metadata": {
    "colab_type": "text",
    "id": "VzvEOwHvnbLq"
   },
   "source": [
    "Then, we calculate the average of all observations."
   ]
  },
  {
   "cell_type": "code",
   "execution_count": 8,
   "metadata": {
    "colab": {
     "base_uri": "https://localhost:8080/",
     "height": 187
    },
    "colab_type": "code",
    "id": "0P1cYrQRnbLr",
    "outputId": "10b2b744-2d59-46b9-a474-731cc5ef8434",
    "scrolled": false
   },
   "outputs": [
    {
     "name": "stdout",
     "output_type": "stream",
     "text": [
      "1    0.000000e+00\n",
      "2    0.000000e+00\n",
      "3    0.000000e+00\n",
      "4    0.000000e+00\n",
      "5    2.397279e-08\n",
      "6    0.000000e+00\n",
      "7    6.124086e-08\n",
      "8    0.000000e+00\n",
      "9    3.770772e-06\n",
      "dtype: float32\n"
     ]
    }
   ],
   "source": [
    "mean_signal = signal_data.mean()\n",
    "print(mean_signal.iloc[1:10,])"
   ]
  },
  {
   "cell_type": "markdown",
   "metadata": {
    "colab_type": "text",
    "id": "XGBuA0WNnbLv"
   },
   "source": [
    "Now draw the Heatmap"
   ]
  },
  {
   "cell_type": "code",
   "execution_count": 9,
   "metadata": {
    "colab": {
     "base_uri": "https://localhost:8080/",
     "height": 319
    },
    "colab_type": "code",
    "id": "b6BRbkxQnbLw",
    "outputId": "f8b5d6ff-d064-4f5d-dc9b-b804dbfd8d6c"
   },
   "outputs": [
    {
     "name": "stdout",
     "output_type": "stream",
     "text": [
      "(625,)\n",
      "AxesSubplot(0.125,0.125;0.62x0.755)\n"
     ]
    },
    {
     "data": {
      "image/png": "[encoded data removed]",
      "text/plain": [
       "<Figure size 432x288 with 2 Axes>"
      ]
     },
     "metadata": {},
     "output_type": "display_data"
    }
   ],
   "source": [
    "mean_signal_matrix = mean_signal.values\n",
    "print(mean_signal_matrix.shape)\n",
    "mean_signal_matrix = mean_signal_matrix.reshape((25,25))\n",
    "\n",
    "print_heatmap(mean_signal_matrix)"
   ]
  },
  {
   "cell_type": "markdown",
   "metadata": {
    "colab_type": "text",
    "id": "aEOOUi9HnbLz"
   },
   "source": [
    "We then add a last column, with the value of `1`. This last column classify this data as signal data. After creating the full dataset we will rename this column to _class_."
   ]
  },
  {
   "cell_type": "code",
   "execution_count": 10,
   "metadata": {
    "colab": {},
    "colab_type": "code",
    "id": "DzLiP-NpnbL0"
   },
   "outputs": [],
   "source": [
    "signal_data[625] = 1"
   ]
  },
  {
   "cell_type": "code",
   "execution_count": 11,
   "metadata": {
    "colab": {
     "base_uri": "https://localhost:8080/",
     "height": 204
    },
    "colab_type": "code",
    "id": "xgX9Fx5knbL4",
    "outputId": "b1f72256-fd44-4a72-a091-30cf74b386e3"
   },
   "outputs": [
    {
     "data": {
      "text/plain": [
       "0    1\n",
       "1    1\n",
       "2    1\n",
       "3    1\n",
       "4    1\n",
       "5    1\n",
       "6    1\n",
       "7    1\n",
       "8    1\n",
       "9    1\n",
       "Name: 625, dtype: int64"
      ]
     },
     "execution_count": 11,
     "metadata": {},
     "output_type": "execute_result"
    }
   ],
   "source": [
    "signal_data.iloc[0:10,625]"
   ]
  },
  {
   "cell_type": "markdown",
   "metadata": {
    "colab_type": "text",
    "id": "m323sQU-nbL7"
   },
   "source": [
    "After preprocessing the _signal_ data, we will perform the same steps with the _background_ data."
   ]
  },
  {
   "cell_type": "code",
   "execution_count": 12,
   "metadata": {
    "colab": {
     "base_uri": "https://localhost:8080/",
     "height": 34
    },
    "colab_type": "code",
    "id": "hhvFnAMOnbL8",
    "outputId": "8b352aa3-9679-4eed-aeea-ef24fc192927"
   },
   "outputs": [
    {
     "name": "stdout",
     "output_type": "stream",
     "text": [
      "(11298, 626)\n"
     ]
    }
   ],
   "source": [
    "background_data = pd.read_csv('background_PU0_13TeV_MJ-65-95_PTJ-250-300_ext.txt', sep=\"\t\", header=None, dtype=np.float32)\n",
    "print(background_data.shape)"
   ]
  },
  {
   "cell_type": "code",
   "execution_count": 13,
   "metadata": {
    "colab": {
     "base_uri": "https://localhost:8080/",
     "height": 34
    },
    "colab_type": "code",
    "id": "Ahq3YwGQnbL_",
    "outputId": "404eb34c-5f13-4ab6-a5c9-4c447631297f"
   },
   "outputs": [
    {
     "name": "stdout",
     "output_type": "stream",
     "text": [
      "(11298, 625)\n"
     ]
    }
   ],
   "source": [
    "background_data.drop(625, axis=1, inplace=True)\n",
    "print(background_data.shape)"
   ]
  },
  {
   "cell_type": "code",
   "execution_count": 14,
   "metadata": {
    "colab": {
     "base_uri": "https://localhost:8080/",
     "height": 187
    },
    "colab_type": "code",
    "id": "Y0ybVhPInbMD",
    "outputId": "8047c934-02b9-4ed2-9a43-3fe0d93a7641"
   },
   "outputs": [
    {
     "name": "stdout",
     "output_type": "stream",
     "text": [
      "1    0.000000e+00\n",
      "2    0.000000e+00\n",
      "3    8.339239e-08\n",
      "4    0.000000e+00\n",
      "5    1.226879e-06\n",
      "6    9.698673e-07\n",
      "7    3.696426e-06\n",
      "8    8.896710e-06\n",
      "9    5.325904e-06\n",
      "dtype: float32\n"
     ]
    }
   ],
   "source": [
    "mean_background = background_data.mean()\n",
    "print(mean_background.iloc[1:10,])"
   ]
  },
  {
   "cell_type": "code",
   "execution_count": 15,
   "metadata": {
    "colab": {
     "base_uri": "https://localhost:8080/",
     "height": 319
    },
    "colab_type": "code",
    "id": "Wu7pr57unbMG",
    "outputId": "7495d681-702e-4850-b367-96ad404325c3"
   },
   "outputs": [
    {
     "name": "stdout",
     "output_type": "stream",
     "text": [
      "(625,)\n",
      "AxesSubplot(0.125,0.125;0.62x0.755)\n"
     ]
    },
    {
     "data": {
      "image/png": "[encoded data removed]",
      "text/plain": [
       "<Figure size 432x288 with 2 Axes>"
      ]
     },
     "metadata": {},
     "output_type": "display_data"
    }
   ],
   "source": [
    "mean_background_matrix = mean_background.values\n",
    "print(mean_background_matrix.shape)\n",
    "mean_background_matrix = mean_background_matrix.reshape((25,25))\n",
    "\n",
    "print_heatmap(mean_background_matrix)"
   ]
  },
  {
   "cell_type": "markdown",
   "metadata": {
    "colab_type": "text",
    "id": "ba5vyyHanbMJ"
   },
   "source": [
    "We modify this data, to point out that this is the background data, by setting the last column to `0`."
   ]
  },
  {
   "cell_type": "code",
   "execution_count": 16,
   "metadata": {
    "colab": {},
    "colab_type": "code",
    "id": "VMNphGslnbMK"
   },
   "outputs": [],
   "source": [
    "background_data[625] = 0"
   ]
  },
  {
   "cell_type": "code",
   "execution_count": 17,
   "metadata": {
    "colab": {
     "base_uri": "https://localhost:8080/",
     "height": 204
    },
    "colab_type": "code",
    "id": "nLKSAouNnbMN",
    "outputId": "38c1aa6b-0514-4bf2-f23b-0a5916a213d4"
   },
   "outputs": [
    {
     "data": {
      "text/plain": [
       "0    0\n",
       "1    0\n",
       "2    0\n",
       "3    0\n",
       "4    0\n",
       "5    0\n",
       "6    0\n",
       "7    0\n",
       "8    0\n",
       "9    0\n",
       "Name: 625, dtype: int64"
      ]
     },
     "execution_count": 17,
     "metadata": {},
     "output_type": "execute_result"
    }
   ],
   "source": [
    "background_data.iloc[0:10,625]"
   ]
  },
  {
   "cell_type": "markdown",
   "metadata": {
    "colab_type": "text",
    "id": "msTbbko2nbMU"
   },
   "source": [
    "Now we concatenate the data and shuffle it in order to randomize its columns."
   ]
  },
  {
   "cell_type": "code",
   "execution_count": 18,
   "metadata": {
    "colab": {},
    "colab_type": "code",
    "id": "s-XkRYybnbMV"
   },
   "outputs": [],
   "source": [
    "frames = [signal_data, background_data]\n",
    "full_data = pd.concat(frames)"
   ]
  },
  {
   "cell_type": "code",
   "execution_count": 19,
   "metadata": {
    "colab": {},
    "colab_type": "code",
    "id": "uWm-N06WnbMY"
   },
   "outputs": [],
   "source": [
    "full_data = full_data.sample(frac=1).reset_index(drop=True)\n",
    "full_data.rename(columns={625:'class'}, inplace=True)"
   ]
  },
  {
   "cell_type": "markdown",
   "metadata": {
    "colab_type": "text",
    "id": "3Ge_MLD_nbMc"
   },
   "source": [
    "Now let's examine how our data looks like."
   ]
  },
  {
   "cell_type": "code",
   "execution_count": 20,
   "metadata": {
    "colab": {
     "base_uri": "https://localhost:8080/",
     "height": 419
    },
    "colab_type": "code",
    "id": "WSxW0Hr9nbMe",
    "outputId": "25623541-c0cb-407e-f633-52a222ffe058",
    "scrolled": true
   },
   "outputs": [
    {
     "data": {
      "text/html": [
       "<div>\n",
       "<style scoped>\n",
       "    .dataframe tbody tr th:only-of-type {\n",
       "        vertical-align: middle;\n",
       "    }\n",
       "\n",
       "    .dataframe tbody tr th {\n",
       "        vertical-align: top;\n",
       "    }\n",
       "\n",
       "    .dataframe thead th {\n",
       "        text-align: right;\n",
       "    }\n",
       "</style>\n",
       "<table border=\"1\" class=\"dataframe\">\n",
       "  <thead>\n",
       "    <tr style=\"text-align: right;\">\n",
       "      <th></th>\n",
       "      <th>0</th>\n",
       "      <th>1</th>\n",
       "      <th>2</th>\n",
       "      <th>3</th>\n",
       "      <th>4</th>\n",
       "      <th>5</th>\n",
       "      <th>6</th>\n",
       "      <th>...</th>\n",
       "      <th>619</th>\n",
       "      <th>620</th>\n",
       "      <th>621</th>\n",
       "      <th>622</th>\n",
       "      <th>623</th>\n",
       "      <th>624</th>\n",
       "      <th>class</th>\n",
       "    </tr>\n",
       "  </thead>\n",
       "  <tbody>\n",
       "    <tr>\n",
       "      <th>0</th>\n",
       "      <td>0.00</td>\n",
       "      <td>0.00</td>\n",
       "      <td>0.00</td>\n",
       "      <td>0.00</td>\n",
       "      <td>0.00</td>\n",
       "      <td>0.00</td>\n",
       "      <td>0.00</td>\n",
       "      <td>...</td>\n",
       "      <td>0.00</td>\n",
       "      <td>0.00</td>\n",
       "      <td>0.00</td>\n",
       "      <td>0.00</td>\n",
       "      <td>0.00</td>\n",
       "      <td>0.00</td>\n",
       "      <td>1</td>\n",
       "    </tr>\n",
       "    <tr>\n",
       "      <th>1</th>\n",
       "      <td>0.00</td>\n",
       "      <td>0.00</td>\n",
       "      <td>0.00</td>\n",
       "      <td>0.00</td>\n",
       "      <td>0.00</td>\n",
       "      <td>0.00</td>\n",
       "      <td>0.00</td>\n",
       "      <td>...</td>\n",
       "      <td>0.00</td>\n",
       "      <td>0.00</td>\n",
       "      <td>0.00</td>\n",
       "      <td>0.00</td>\n",
       "      <td>0.00</td>\n",
       "      <td>0.00</td>\n",
       "      <td>1</td>\n",
       "    </tr>\n",
       "    <tr>\n",
       "      <th>2</th>\n",
       "      <td>0.00</td>\n",
       "      <td>0.00</td>\n",
       "      <td>0.00</td>\n",
       "      <td>0.00</td>\n",
       "      <td>0.00</td>\n",
       "      <td>0.00</td>\n",
       "      <td>0.00</td>\n",
       "      <td>...</td>\n",
       "      <td>0.00</td>\n",
       "      <td>0.00</td>\n",
       "      <td>0.00</td>\n",
       "      <td>0.00</td>\n",
       "      <td>0.00</td>\n",
       "      <td>0.00</td>\n",
       "      <td>0</td>\n",
       "    </tr>\n",
       "    <tr>\n",
       "      <th>3</th>\n",
       "      <td>0.00</td>\n",
       "      <td>0.00</td>\n",
       "      <td>0.00</td>\n",
       "      <td>0.00</td>\n",
       "      <td>0.00</td>\n",
       "      <td>0.00</td>\n",
       "      <td>0.00</td>\n",
       "      <td>...</td>\n",
       "      <td>0.00</td>\n",
       "      <td>0.00</td>\n",
       "      <td>0.00</td>\n",
       "      <td>0.00</td>\n",
       "      <td>0.00</td>\n",
       "      <td>0.00</td>\n",
       "      <td>0</td>\n",
       "    </tr>\n",
       "    <tr>\n",
       "      <th>4</th>\n",
       "      <td>0.00</td>\n",
       "      <td>0.00</td>\n",
       "      <td>0.00</td>\n",
       "      <td>0.00</td>\n",
       "      <td>0.00</td>\n",
       "      <td>0.00</td>\n",
       "      <td>0.00</td>\n",
       "      <td>...</td>\n",
       "      <td>0.00</td>\n",
       "      <td>0.00</td>\n",
       "      <td>0.00</td>\n",
       "      <td>0.00</td>\n",
       "      <td>0.00</td>\n",
       "      <td>0.00</td>\n",
       "      <td>0</td>\n",
       "    </tr>\n",
       "    <tr>\n",
       "      <th>...</th>\n",
       "      <td>...</td>\n",
       "      <td>...</td>\n",
       "      <td>...</td>\n",
       "      <td>...</td>\n",
       "      <td>...</td>\n",
       "      <td>...</td>\n",
       "      <td>...</td>\n",
       "      <td>...</td>\n",
       "      <td>...</td>\n",
       "      <td>...</td>\n",
       "      <td>...</td>\n",
       "      <td>...</td>\n",
       "      <td>...</td>\n",
       "      <td>...</td>\n",
       "      <td>...</td>\n",
       "    </tr>\n",
       "    <tr>\n",
       "      <th>22591</th>\n",
       "      <td>0.00</td>\n",
       "      <td>0.00</td>\n",
       "      <td>0.00</td>\n",
       "      <td>0.00</td>\n",
       "      <td>0.00</td>\n",
       "      <td>0.00</td>\n",
       "      <td>0.00</td>\n",
       "      <td>...</td>\n",
       "      <td>0.00</td>\n",
       "      <td>0.00</td>\n",
       "      <td>0.00</td>\n",
       "      <td>0.00</td>\n",
       "      <td>0.00</td>\n",
       "      <td>0.00</td>\n",
       "      <td>0</td>\n",
       "    </tr>\n",
       "    <tr>\n",
       "      <th>22592</th>\n",
       "      <td>0.00</td>\n",
       "      <td>0.00</td>\n",
       "      <td>0.00</td>\n",
       "      <td>0.00</td>\n",
       "      <td>0.00</td>\n",
       "      <td>0.00</td>\n",
       "      <td>0.00</td>\n",
       "      <td>...</td>\n",
       "      <td>0.00</td>\n",
       "      <td>0.00</td>\n",
       "      <td>0.00</td>\n",
       "      <td>0.00</td>\n",
       "      <td>0.00</td>\n",
       "      <td>0.00</td>\n",
       "      <td>0</td>\n",
       "    </tr>\n",
       "    <tr>\n",
       "      <th>22593</th>\n",
       "      <td>0.00</td>\n",
       "      <td>0.00</td>\n",
       "      <td>0.00</td>\n",
       "      <td>0.00</td>\n",
       "      <td>0.00</td>\n",
       "      <td>0.00</td>\n",
       "      <td>0.00</td>\n",
       "      <td>...</td>\n",
       "      <td>0.00</td>\n",
       "      <td>0.00</td>\n",
       "      <td>0.00</td>\n",
       "      <td>0.00</td>\n",
       "      <td>0.00</td>\n",
       "      <td>0.00</td>\n",
       "      <td>0</td>\n",
       "    </tr>\n",
       "    <tr>\n",
       "      <th>22594</th>\n",
       "      <td>0.00</td>\n",
       "      <td>0.00</td>\n",
       "      <td>0.00</td>\n",
       "      <td>0.00</td>\n",
       "      <td>0.00</td>\n",
       "      <td>0.00</td>\n",
       "      <td>0.00</td>\n",
       "      <td>...</td>\n",
       "      <td>0.00</td>\n",
       "      <td>0.00</td>\n",
       "      <td>0.00</td>\n",
       "      <td>0.00</td>\n",
       "      <td>0.00</td>\n",
       "      <td>0.00</td>\n",
       "      <td>0</td>\n",
       "    </tr>\n",
       "    <tr>\n",
       "      <th>22595</th>\n",
       "      <td>0.00</td>\n",
       "      <td>0.00</td>\n",
       "      <td>0.00</td>\n",
       "      <td>0.00</td>\n",
       "      <td>0.00</td>\n",
       "      <td>0.00</td>\n",
       "      <td>0.00</td>\n",
       "      <td>...</td>\n",
       "      <td>0.00</td>\n",
       "      <td>0.00</td>\n",
       "      <td>0.00</td>\n",
       "      <td>0.00</td>\n",
       "      <td>0.00</td>\n",
       "      <td>0.00</td>\n",
       "      <td>0</td>\n",
       "    </tr>\n",
       "  </tbody>\n",
       "</table>\n",
       "<p>22596 rows × 626 columns</p>\n",
       "</div>"
      ],
      "text/plain": [
       "         0    1    2    3    4    5    6  ...  619  620  621  622  623  624  \\\n",
       "0     0.00 0.00 0.00 0.00 0.00 0.00 0.00  ... 0.00 0.00 0.00 0.00 0.00 0.00   \n",
       "1     0.00 0.00 0.00 0.00 0.00 0.00 0.00  ... 0.00 0.00 0.00 0.00 0.00 0.00   \n",
       "2     0.00 0.00 0.00 0.00 0.00 0.00 0.00  ... 0.00 0.00 0.00 0.00 0.00 0.00   \n",
       "3     0.00 0.00 0.00 0.00 0.00 0.00 0.00  ... 0.00 0.00 0.00 0.00 0.00 0.00   \n",
       "4     0.00 0.00 0.00 0.00 0.00 0.00 0.00  ... 0.00 0.00 0.00 0.00 0.00 0.00   \n",
       "...    ...  ...  ...  ...  ...  ...  ...  ...  ...  ...  ...  ...  ...  ...   \n",
       "22591 0.00 0.00 0.00 0.00 0.00 0.00 0.00  ... 0.00 0.00 0.00 0.00 0.00 0.00   \n",
       "22592 0.00 0.00 0.00 0.00 0.00 0.00 0.00  ... 0.00 0.00 0.00 0.00 0.00 0.00   \n",
       "22593 0.00 0.00 0.00 0.00 0.00 0.00 0.00  ... 0.00 0.00 0.00 0.00 0.00 0.00   \n",
       "22594 0.00 0.00 0.00 0.00 0.00 0.00 0.00  ... 0.00 0.00 0.00 0.00 0.00 0.00   \n",
       "22595 0.00 0.00 0.00 0.00 0.00 0.00 0.00  ... 0.00 0.00 0.00 0.00 0.00 0.00   \n",
       "\n",
       "       class  \n",
       "0          1  \n",
       "1          1  \n",
       "2          0  \n",
       "3          0  \n",
       "4          0  \n",
       "...      ...  \n",
       "22591      0  \n",
       "22592      0  \n",
       "22593      0  \n",
       "22594      0  \n",
       "22595      0  \n",
       "\n",
       "[22596 rows x 626 columns]"
      ]
     },
     "metadata": {},
     "output_type": "display_data"
    }
   ],
   "source": [
    "from IPython.core.display import display\n",
    "with pd.option_context('display.max_rows', 200, 'display.max_columns', 15, \n",
    "                       'display.float_format', '{:.2f}'.format):\n",
    "    display(full_data)"
   ]
  },
  {
   "cell_type": "markdown",
   "metadata": {
    "colab_type": "text",
    "id": "s8esvBX-nbMh"
   },
   "source": [
    "# Defining and Training the model"
   ]
  },
  {
   "cell_type": "markdown",
   "metadata": {
    "colab_type": "text",
    "id": "hNpOe50onbMi"
   },
   "source": [
    "Split the full dataset into _test_ and _train_ data in a 70-30% rate."
   ]
  },
  {
   "cell_type": "code",
   "execution_count": 25,
   "metadata": {
    "colab": {
     "base_uri": "https://localhost:8080/",
     "height": 51
    },
    "colab_type": "code",
    "id": "pPpuYleJnbMj",
    "outputId": "f9374b9a-e861-46d5-fc04-a4ebc6b7d30e"
   },
   "outputs": [
    {
     "name": "stdout",
     "output_type": "stream",
     "text": [
      "(19206, 626)\n",
      "(3390, 626)\n"
     ]
    }
   ],
   "source": [
    "train_data, test_data = train_test_split(full_data, test_size = 0.15)\n",
    "print(train_data.shape)\n",
    "print(test_data.shape)"
   ]
  },
  {
   "cell_type": "markdown",
   "metadata": {
    "colab_type": "text",
    "id": "bkBBwObWnbMl"
   },
   "source": [
    "The _Keras_ framework, in order to train its network must receive the dependent and independent variables in  separated tables."
   ]
  },
  {
   "cell_type": "code",
   "execution_count": 26,
   "metadata": {
    "colab": {
     "base_uri": "https://localhost:8080/",
     "height": 51
    },
    "colab_type": "code",
    "id": "HkCO2uPhnbMm",
    "outputId": "ddf27960-5aae-4b09-989b-2b1fd0d22778"
   },
   "outputs": [
    {
     "name": "stdout",
     "output_type": "stream",
     "text": [
      "(19206, 625)\n",
      "(19206, 1)\n"
     ]
    }
   ],
   "source": [
    "X_train = train_data.iloc[:, :-1]\n",
    "print(X_train.shape)\n",
    "Y_train = train_data.iloc[:,-1:]\n",
    "print(Y_train.shape)"
   ]
  },
  {
   "cell_type": "code",
   "execution_count": 27,
   "metadata": {
    "colab": {
     "base_uri": "https://localhost:8080/",
     "height": 51
    },
    "colab_type": "code",
    "id": "xiaLXKItnbMq",
    "outputId": "97b8e451-fe0e-4c52-ecfb-38811d41599c"
   },
   "outputs": [
    {
     "name": "stdout",
     "output_type": "stream",
     "text": [
      "(3390, 625)\n",
      "(3390, 1)\n"
     ]
    }
   ],
   "source": [
    "X_test = test_data.iloc[:, :-1]\n",
    "print(X_test.shape)\n",
    "Y_test = test_data.iloc[:,-1:]\n",
    "print(Y_test.shape)"
   ]
  },
  {
   "cell_type": "markdown",
   "metadata": {
    "colab_type": "text",
    "id": "N-iHnkB2nbMs"
   },
   "source": [
    "We must convert the dependent variable to be a probability distribution of the possible outcomes, thus, a value of output `1` must become the probabilities `(0, 1)`. Conversely, a `0` outcome value must become the pair `(1, 0)`."
   ]
  },
  {
   "cell_type": "code",
   "execution_count": 28,
   "metadata": {
    "colab": {},
    "colab_type": "code",
    "id": "MjeHiPhhnbMt"
   },
   "outputs": [
    {
     "ename": "TypeError",
     "evalue": "'tuple' object is not callable",
     "output_type": "error",
     "traceback": [
      "\u001b[1;31m---------------------------------------------------------------------------\u001b[0m",
      "\u001b[1;31mTypeError\u001b[0m                                 Traceback (most recent call last)",
      "\u001b[1;32m<ipython-input-28-1e0875ee19c6>\u001b[0m in \u001b[0;36m<module>\u001b[1;34m\u001b[0m\n\u001b[0;32m      1\u001b[0m \u001b[0mY_train\u001b[0m \u001b[1;33m=\u001b[0m \u001b[0mto_categorical\u001b[0m\u001b[1;33m(\u001b[0m\u001b[0mY_train\u001b[0m\u001b[1;33m.\u001b[0m\u001b[0mvalues\u001b[0m\u001b[1;33m,\u001b[0m \u001b[0mnum_classes\u001b[0m\u001b[1;33m=\u001b[0m\u001b[1;36m2\u001b[0m\u001b[1;33m)\u001b[0m\u001b[1;33m\u001b[0m\u001b[1;33m\u001b[0m\u001b[0m\n\u001b[1;32m----> 2\u001b[1;33m \u001b[0mY_train\u001b[0m\u001b[1;33m.\u001b[0m\u001b[0mshape\u001b[0m\u001b[1;33m(\u001b[0m\u001b[1;33m)\u001b[0m\u001b[1;33m\u001b[0m\u001b[1;33m\u001b[0m\u001b[0m\n\u001b[0m",
      "\u001b[1;31mTypeError\u001b[0m: 'tuple' object is not callable"
     ]
    }
   ],
   "source": [
    "Y_train = to_categorical(Y_train.values, num_classes=2)\n",
    "Y_train.shape()"
   ]
  },
  {
   "cell_type": "markdown",
   "metadata": {
    "colab_type": "text",
    "id": "0Tjr8XEjnbMw"
   },
   "source": [
    "## Neural Network Architecture Definition"
   ]
  },
  {
   "cell_type": "markdown",
   "metadata": {
    "colab_type": "text",
    "id": "APGfrj38nbMw"
   },
   "source": [
    "We defined a simple NN, with only two hidden layer."
   ]
  },
  {
   "cell_type": "markdown",
   "metadata": {
    "colab_type": "text",
    "id": "nslkXkT3nbM0"
   },
   "source": [
    "After defining the NN architecture we train it using the `fit` method. We trained it for 50 epochs (backpropagation cycles). "
   ]
  },
  {
   "cell_type": "code",
   "execution_count": 188,
   "metadata": {},
   "outputs": [],
   "source": [
    "train_data, test_data = train_test_split(full_data, test_size = 0.3)\n",
    "\n",
    "X_train = train_data.iloc[:, :-1]\n",
    "Y_train = train_data.iloc[:,-1:]\n",
    "\n",
    "X_test = test_data.iloc[:, :-1]\n",
    "Y_test = test_data.iloc[:,-1:]\n",
    "\n",
    "Y_train = to_categorical(Y_train.values, num_classes=2)\n",
    "Y_test = to_categorical(Y_test.values, num_classes=2)"
   ]
  },
  {
   "cell_type": "code",
   "execution_count": 193,
   "metadata": {
    "colab": {},
    "colab_type": "code",
    "id": "esvYiwjonbMx"
   },
   "outputs": [],
   "source": [
    "dimof_input = X_train.shape[1]\n",
    "\n",
    "model = Sequential()\n",
    "\n",
    "model.add(Dense(units=512, activation='relu', input_dim=dimof_input))\n",
    "model.add(Dropout(0.1))\n",
    "model.add(Dense(units=64, activation='relu'))\n",
    "model.add(Dropout(0.1))\n",
    "model.add(Dense(units=2, activation='softmax'))\n",
    "\n",
    "model.compile(loss='binary_crossentropy', optimizer='rmsprop', metrics=[\"accuracy\"])"
   ]
  },
  {
   "cell_type": "code",
   "execution_count": 194,
   "metadata": {
    "colab": {
     "base_uri": "https://localhost:8080/",
     "height": 51
    },
    "colab_type": "code",
    "id": "fIZ53SWGnbM7",
    "outputId": "d9b18f4e-380a-4f23-a430-b0734220f9fd"
   },
   "outputs": [
    {
     "name": "stdout",
     "output_type": "stream",
     "text": [
      "['loss', 'accuracy']\n",
      "[2.1418965712007227, 0.7344741]\n"
     ]
    }
   ],
   "source": [
    "model.fit(X_train.values, Y_train, batch_size=500, epochs=500, verbose=0)\n",
    "\n",
    "score = model.evaluate(X_test.values, Y_test, verbose=0)\n",
    "print(model.metrics_names)\n",
    "print(score)"
   ]
  },
  {
   "cell_type": "markdown",
   "metadata": {
    "colab_type": "text",
    "id": "v-ro8rCFnbM4"
   },
   "source": [
    "After training the model we need to evaluate it."
   ]
  },
  {
   "cell_type": "markdown",
   "metadata": {
    "colab_type": "text",
    "id": "cd3XlIacnbM-"
   },
   "source": [
    "Now let's take a look at the missclassified observations."
   ]
  },
  {
   "cell_type": "code",
   "execution_count": 191,
   "metadata": {
    "colab": {
     "base_uri": "https://localhost:8080/",
     "height": 136
    },
    "colab_type": "code",
    "id": "pyZPLUptnbNB",
    "outputId": "baa59420-44ff-46ec-bb37-2b94633acea1"
   },
   "outputs": [
    {
     "name": "stdout",
     "output_type": "stream",
     "text": [
      "WARNING:tensorflow:Falling back from v2 loop because of error: Failed to find data adapter that can handle input: <class 'pandas.core.frame.DataFrame'>, <class 'NoneType'>\n"
     ]
    },
    {
     "data": {
      "text/plain": [
       "array([[2.0593097e-06, 9.9999797e-01],\n",
       "       [8.9719910e-03, 9.9102801e-01],\n",
       "       [1.0000000e+00, 1.1530095e-31],\n",
       "       ...,\n",
       "       [1.0000000e+00, 5.7938883e-11],\n",
       "       [5.3272688e-01, 4.6727318e-01],\n",
       "       [2.1876331e-04, 9.9978119e-01]], dtype=float32)"
      ]
     },
     "execution_count": 191,
     "metadata": {},
     "output_type": "execute_result"
    }
   ],
   "source": [
    "Y_test_predicted = model.predict(X_test, verbose=0)\n",
    "Y_test_predicted"
   ]
  },
  {
   "cell_type": "markdown",
   "metadata": {
    "colab_type": "text",
    "id": "neg9m3kfnbNE"
   },
   "source": [
    "Now we calculate the false negatives and also the false positives by comparing the true value with the predicted one."
   ]
  },
  {
   "cell_type": "code",
   "execution_count": 192,
   "metadata": {
    "colab": {
     "base_uri": "https://localhost:8080/",
     "height": 85
    },
    "colab_type": "code",
    "id": "4RU2WEpGnbNE",
    "outputId": "388984b9-aa0e-4118-bbcb-64fdaaf51751"
   },
   "outputs": [
    {
     "name": "stdout",
     "output_type": "stream",
     "text": [
      "[1, 0, 1, 1, 1, 1, 1, 1, 0]\n",
      "[0, 1, 1, 0, 0, 1, 0, 0, 1]\n",
      "False Positive Rate: 0.14\n",
      "False Negative Rate: 0.13\n"
     ]
    }
   ],
   "source": [
    "Y_test_predicted_values = get_predicted_values(Y_test_predicted)\n",
    "Y_test_values = get_predicted_values(Y_test)\n",
    "print(Y_test_predicted_values[1:10])\n",
    "print(Y_test_values[1:10])\n",
    "\n",
    "false_positives = []\n",
    "false_negatives = []\n",
    "for i in range(len(Y_test_values)):\n",
    "    if Y_test_values[i] == 0 and Y_test_predicted_values[i] == 1:\n",
    "        false_positives.append(i)\n",
    "    elif Y_test_values[i] == 1 and Y_test_predicted_values[i] == 0:\n",
    "        false_negatives.append(i)\n",
    "        \n",
    "print(\"False Positive Rate: {:.2f}\".format(len(false_positives)/len(Y_test_values)))\n",
    "print(\"False Negative Rate: {:.2f}\".format(len(false_negatives)/len(Y_test_values)))"
   ]
  },
  {
   "cell_type": "markdown",
   "metadata": {
    "colab_type": "text",
    "id": "VWWDZP1NnbNH"
   },
   "source": [
    "And try to visualize the heatmaps for false positives and negatives. Firstly the false negatives, where the network was supposed to answer _Signal_, but instead, it answered _Background_."
   ]
  },
  {
   "cell_type": "code",
   "execution_count": 34,
   "metadata": {
    "colab": {
     "base_uri": "https://localhost:8080/",
     "height": 353
    },
    "colab_type": "code",
    "id": "CGDjCVk3nbNI",
    "outputId": "74667460-8a60-4c61-c3c3-ab0b641a8e7d"
   },
   "outputs": [
    {
     "name": "stdout",
     "output_type": "stream",
     "text": [
      "[46, 53, 59, 62, 66, 107, 116, 131, 132]\n",
      "(906, 625)\n",
      "(625,)\n",
      "AxesSubplot(0.125,0.125;0.62x0.755)\n"
     ]
    },
    {
     "data": {
      "image/png": "[encoded data removed]",
      "text/plain": [
       "<Figure size 432x288 with 2 Axes>"
      ]
     },
     "metadata": {},
     "output_type": "display_data"
    }
   ],
   "source": [
    "print(false_negatives[1:10])\n",
    "false_negatives_values = X_test.iloc[false_negatives,]\n",
    "print(false_negatives_values.shape)\n",
    "\n",
    "mean_false_negatives = false_negatives_values.mean().values\n",
    "print(mean_false_negatives.shape)\n",
    "mean_false_negatives = mean_false_negatives.reshape((25,25))\n",
    "\n",
    "print_heatmap(mean_false_negatives)"
   ]
  },
  {
   "cell_type": "markdown",
   "metadata": {
    "colab_type": "text",
    "id": "QGi8K_t5nbNK"
   },
   "source": [
    "Then we examine the cases in which the network should have responded _Background_, but it answered _Signal_."
   ]
  },
  {
   "cell_type": "code",
   "execution_count": 105,
   "metadata": {
    "colab": {
     "base_uri": "https://localhost:8080/",
     "height": 353
    },
    "colab_type": "code",
    "id": "1T79aGd7nbNL",
    "outputId": "82beb1da-8ab8-4867-f976-d8b668344ac2"
   },
   "outputs": [
    {
     "name": "stdout",
     "output_type": "stream",
     "text": [
      "[6, 21, 32, 38, 39, 45, 47, 64, 65]\n",
      "(857, 625)\n",
      "(625,)\n",
      "AxesSubplot(0.125,0.125;0.62x0.755)\n"
     ]
    },
    {
     "data": {
      "image/png": "[encoded data removed]",
      "text/plain": [
       "<Figure size 432x288 with 2 Axes>"
      ]
     },
     "metadata": {},
     "output_type": "display_data"
    }
   ],
   "source": [
    "print(false_positives[1:10])\n",
    "false_positives_values = X_test.iloc[false_positives,]\n",
    "print(false_positives_values.shape)\n",
    "\n",
    "mean_false_positives = false_positives_values.mean().values\n",
    "print(mean_false_positives.shape)\n",
    "mean_false_positives = mean_false_positives.reshape((25,25))\n",
    "\n",
    "print_heatmap(mean_false_positives)"
   ]
  },
  {
   "cell_type": "markdown",
   "metadata": {},
   "source": [
    "## Apresentação da solução para classificao de Jets \n",
    "\n",
    " \n",
    "\n",
    "### Divisão em grupos. Criem ao menos 4 grupos \n",
    "### Apresentacao  sera  no  dia  21/02  (sexta) \n",
    "\n",
    " \n",
    "\n",
    "`Objetivo:` \n",
    "\n",
    "1. Modificar a rede neural apresentada para melhorar a acurácia do modelo ;\n",
    "\n",
    "1. Comparar o modelo de rede neural com outro modelo do scikit learn de sua preferência;\n",
    "\n",
    "1. Utilize os recursos aprendidos em aula: regularização, validação cruzada,  \n",
    "busca por hyperparâmetros, preparação de dados, etc para validar os resultados e buscar o melhor modelo;\n",
    "\n",
    "1. Gere curvas de aprendizado do modelo para explicar o impacto das mudanças feitas no modelo . \n",
    "\n",
    "\n",
    "`Entregar:` \n",
    " \n",
    "\n",
    "1. Descrição completa e documentada da exploração em jupyter;\n",
    "\n",
    "1. Apresentacao dos resultados usando slides (15 m);\n",
    "\n",
    "1. Apresentar uma análise exploratória do problema;\n",
    "\n",
    "1. Explique as acoes tomadas para definir o modelo;\n",
    "\n",
    "1. Apresente a comparação entre os modelos;\n",
    "\n",
    "1. Caracterize a acurácia em termos de falso positivo e falso negativo."
   ]
  },
  {
   "cell_type": "code",
   "execution_count": 143,
   "metadata": {},
   "outputs": [],
   "source": [
    "history = model.fit(X_train.values, Y_train, batch_size=500, epochs=700, verbose=0)"
   ]
  },
  {
   "cell_type": "code",
   "execution_count": 144,
   "metadata": {},
   "outputs": [
    {
     "data": {
      "image/png": "[encoded data removed]",
      "text/plain": [
       "<Figure size 432x288 with 1 Axes>"
      ]
     },
     "metadata": {},
     "output_type": "display_data"
    }
   ],
   "source": [
    "import matplotlib.pyplot as plt\n",
    "\n",
    "# Plot training & validation accuracy values\n",
    "plt.plot(history.history['loss'])\n",
    "plt.title('Model Training Progression')\n",
    "plt.ylabel('Loss')\n",
    "plt.xlabel('Epoch')\n",
    "plt.legend(['Loss'], loc='upper left')\n",
    "plt.show()"
   ]
  },
  {
   "cell_type": "code",
   "execution_count": 185,
   "metadata": {},
   "outputs": [
    {
     "name": "stdout",
     "output_type": "stream",
     "text": [
      "WARNING:tensorflow:Falling back from v2 loop because of error: Failed to find data adapter that can handle input: <class 'pandas.core.frame.DataFrame'>, <class 'NoneType'>\n",
      "(6779, 2)\n",
      "(6779, 2)\n",
      "              precision    recall  f1-score   support\n",
      "\n",
      "           0       0.72      0.73      0.73      3311\n",
      "           1       0.74      0.73      0.73      3468\n",
      "\n",
      "   micro avg       0.73      0.73      0.73      6779\n",
      "   macro avg       0.73      0.73      0.73      6779\n",
      "weighted avg       0.73      0.73      0.73      6779\n",
      " samples avg       0.73      0.73      0.73      6779\n",
      "\n"
     ]
    }
   ],
   "source": [
    "from sklearn.metrics import classification_report\n",
    "from sklearn.metrics import confusion_matrix\n",
    "from sklearn.preprocessing import OneHotEncoder\n",
    "Y_pred = model.predict(X_test)\n",
    "Y_pred = np.argmax(Y_pred, axis=1)\n",
    "Y_o = enc.fit_transform(Y_pred.reshape(-1,1)).toarray()\n",
    "enc = OneHotEncoder(handle_unknown='ignore')\n",
    "\n",
    "print(Y_o.shape)\n",
    "print(Y_test.shape)\n",
    "\n",
    "print(classification_report(Y_test, Y_o))"
   ]
  },
  {
   "cell_type": "code",
   "execution_count": null,
   "metadata": {},
   "outputs": [],
   "source": []
  }
 ],
 "metadata": {
  "colab": {
   "collapsed_sections": [],
   "name": "Image Jet Tagging Analysis (PTJ 250-300).ipynb",
   "provenance": []
  },
  "kernelspec": {
   "display_name": "Python 3",
   "language": "python",
   "name": "python3"
  },
  "language_info": {
   "codemirror_mode": {
    "name": "ipython",
    "version": 3
   },
   "file_extension": ".py",
   "mimetype": "text/x-python",
   "name": "python",
   "nbconvert_exporter": "python",
   "pygments_lexer": "ipython3",
   "version": "3.7.4"
  }
 },
 "nbformat": 4,
 "nbformat_minor": 1
}
